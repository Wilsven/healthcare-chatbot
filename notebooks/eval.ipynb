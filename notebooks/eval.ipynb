{
 "cells": [
  {
   "cell_type": "code",
   "execution_count": 1,
   "metadata": {},
   "outputs": [
    {
     "data": {
      "text/html": [
       "<pre style=\"white-space:pre;overflow-x:auto;line-height:normal;font-family:Menlo,'DejaVu Sans Mono',consolas,'Courier New',monospace\"><span style=\"color: #7fbfbf; text-decoration-color: #7fbfbf\">[04/22/24 16:54:24] </span><span style=\"color: #000080; text-decoration-color: #000080\">INFO    </span> Registered line magic <span style=\"color: #008000; text-decoration-color: #008000\">'%reload_kedro'</span>                                   <a href=\"file:///opt/anaconda3/envs/genai/lib/python3.10/site-packages/kedro/ipython/__init__.py\" target=\"_blank\"><span style=\"color: #7f7f7f; text-decoration-color: #7f7f7f\">__init__.py</span></a><span style=\"color: #7f7f7f; text-decoration-color: #7f7f7f\">:</span><a href=\"file:///opt/anaconda3/envs/genai/lib/python3.10/site-packages/kedro/ipython/__init__.py#51\" target=\"_blank\"><span style=\"color: #7f7f7f; text-decoration-color: #7f7f7f\">51</span></a>\n",
       "</pre>\n"
      ],
      "text/plain": [
       "\u001b[2;36m[04/22/24 16:54:24]\u001b[0m\u001b[2;36m \u001b[0m\u001b[34mINFO    \u001b[0m Registered line magic \u001b[32m'%reload_kedro'\u001b[0m                                   \u001b]8;id=714633;file:///opt/anaconda3/envs/genai/lib/python3.10/site-packages/kedro/ipython/__init__.py\u001b\\\u001b[2m__init__.py\u001b[0m\u001b]8;;\u001b\\\u001b[2m:\u001b[0m\u001b]8;id=226262;file:///opt/anaconda3/envs/genai/lib/python3.10/site-packages/kedro/ipython/__init__.py#51\u001b\\\u001b[2m51\u001b[0m\u001b]8;;\u001b\\\n"
      ]
     },
     "metadata": {},
     "output_type": "display_data"
    },
    {
     "data": {
      "text/html": [
       "<pre style=\"white-space:pre;overflow-x:auto;line-height:normal;font-family:Menlo,'DejaVu Sans Mono',consolas,'Courier New',monospace\"><span style=\"color: #7fbfbf; text-decoration-color: #7fbfbf\">                    </span><span style=\"color: #000080; text-decoration-color: #000080\">INFO    </span> Registered line magic <span style=\"color: #008000; text-decoration-color: #008000\">'%load_node'</span>                                      <a href=\"file:///opt/anaconda3/envs/genai/lib/python3.10/site-packages/kedro/ipython/__init__.py\" target=\"_blank\"><span style=\"color: #7f7f7f; text-decoration-color: #7f7f7f\">__init__.py</span></a><span style=\"color: #7f7f7f; text-decoration-color: #7f7f7f\">:</span><a href=\"file:///opt/anaconda3/envs/genai/lib/python3.10/site-packages/kedro/ipython/__init__.py#53\" target=\"_blank\"><span style=\"color: #7f7f7f; text-decoration-color: #7f7f7f\">53</span></a>\n",
       "</pre>\n"
      ],
      "text/plain": [
       "\u001b[2;36m                   \u001b[0m\u001b[2;36m \u001b[0m\u001b[34mINFO    \u001b[0m Registered line magic \u001b[32m'%load_node'\u001b[0m                                      \u001b]8;id=845285;file:///opt/anaconda3/envs/genai/lib/python3.10/site-packages/kedro/ipython/__init__.py\u001b\\\u001b[2m__init__.py\u001b[0m\u001b]8;;\u001b\\\u001b[2m:\u001b[0m\u001b]8;id=15339;file:///opt/anaconda3/envs/genai/lib/python3.10/site-packages/kedro/ipython/__init__.py#53\u001b\\\u001b[2m53\u001b[0m\u001b]8;;\u001b\\\n"
      ]
     },
     "metadata": {},
     "output_type": "display_data"
    },
    {
     "data": {
      "text/html": [
       "<pre style=\"white-space:pre;overflow-x:auto;line-height:normal;font-family:Menlo,'DejaVu Sans Mono',consolas,'Courier New',monospace\"><span style=\"color: #7fbfbf; text-decoration-color: #7fbfbf\">                    </span><span style=\"color: #000080; text-decoration-color: #000080\">INFO    </span> Resolved project path as:                                              <a href=\"file:///opt/anaconda3/envs/genai/lib/python3.10/site-packages/kedro/ipython/__init__.py\" target=\"_blank\"><span style=\"color: #7f7f7f; text-decoration-color: #7f7f7f\">__init__.py</span></a><span style=\"color: #7f7f7f; text-decoration-color: #7f7f7f\">:</span><a href=\"file:///opt/anaconda3/envs/genai/lib/python3.10/site-packages/kedro/ipython/__init__.py#164\" target=\"_blank\"><span style=\"color: #7f7f7f; text-decoration-color: #7f7f7f\">164</span></a>\n",
       "<span style=\"color: #7fbfbf; text-decoration-color: #7fbfbf\">                    </span>         <span style=\"color: #800080; text-decoration-color: #800080\">/Users/wilsvenleong/Downloads/</span><span style=\"color: #ff00ff; text-decoration-color: #ff00ff\">healthcare-chatbot.</span>                      <span style=\"color: #7f7f7f; text-decoration-color: #7f7f7f\">               </span>\n",
       "<span style=\"color: #7fbfbf; text-decoration-color: #7fbfbf\">                    </span>         To set a different path, run <span style=\"color: #008000; text-decoration-color: #008000\">'%reload_kedro &lt;project_root&gt;'</span>            <span style=\"color: #7f7f7f; text-decoration-color: #7f7f7f\">               </span>\n",
       "</pre>\n"
      ],
      "text/plain": [
       "\u001b[2;36m                   \u001b[0m\u001b[2;36m \u001b[0m\u001b[34mINFO    \u001b[0m Resolved project path as:                                              \u001b]8;id=366401;file:///opt/anaconda3/envs/genai/lib/python3.10/site-packages/kedro/ipython/__init__.py\u001b\\\u001b[2m__init__.py\u001b[0m\u001b]8;;\u001b\\\u001b[2m:\u001b[0m\u001b]8;id=437071;file:///opt/anaconda3/envs/genai/lib/python3.10/site-packages/kedro/ipython/__init__.py#164\u001b\\\u001b[2m164\u001b[0m\u001b]8;;\u001b\\\n",
       "\u001b[2;36m                    \u001b[0m         \u001b[35m/Users/wilsvenleong/Downloads/\u001b[0m\u001b[95mhealthcare-chatbot.\u001b[0m                      \u001b[2m               \u001b[0m\n",
       "\u001b[2;36m                    \u001b[0m         To set a different path, run \u001b[32m'%reload_kedro \u001b[0m\u001b[32m<\u001b[0m\u001b[32mproject_root\u001b[0m\u001b[32m>\u001b[0m\u001b[32m'\u001b[0m            \u001b[2m               \u001b[0m\n"
      ]
     },
     "metadata": {},
     "output_type": "display_data"
    },
    {
     "data": {
      "text/html": [
       "<pre style=\"white-space:pre;overflow-x:auto;line-height:normal;font-family:Menlo,'DejaVu Sans Mono',consolas,'Courier New',monospace\"><span style=\"color: #7fbfbf; text-decoration-color: #7fbfbf\">[04/22/24 16:54:25] </span><span style=\"color: #000080; text-decoration-color: #000080\">INFO    </span> Kedro project Healthcare Chatbot                                       <a href=\"file:///opt/anaconda3/envs/genai/lib/python3.10/site-packages/kedro/ipython/__init__.py\" target=\"_blank\"><span style=\"color: #7f7f7f; text-decoration-color: #7f7f7f\">__init__.py</span></a><span style=\"color: #7f7f7f; text-decoration-color: #7f7f7f\">:</span><a href=\"file:///opt/anaconda3/envs/genai/lib/python3.10/site-packages/kedro/ipython/__init__.py#134\" target=\"_blank\"><span style=\"color: #7f7f7f; text-decoration-color: #7f7f7f\">134</span></a>\n",
       "</pre>\n"
      ],
      "text/plain": [
       "\u001b[2;36m[04/22/24 16:54:25]\u001b[0m\u001b[2;36m \u001b[0m\u001b[34mINFO    \u001b[0m Kedro project Healthcare Chatbot                                       \u001b]8;id=616749;file:///opt/anaconda3/envs/genai/lib/python3.10/site-packages/kedro/ipython/__init__.py\u001b\\\u001b[2m__init__.py\u001b[0m\u001b]8;;\u001b\\\u001b[2m:\u001b[0m\u001b]8;id=257307;file:///opt/anaconda3/envs/genai/lib/python3.10/site-packages/kedro/ipython/__init__.py#134\u001b\\\u001b[2m134\u001b[0m\u001b]8;;\u001b\\\n"
      ]
     },
     "metadata": {},
     "output_type": "display_data"
    },
    {
     "data": {
      "text/html": [
       "<pre style=\"white-space:pre;overflow-x:auto;line-height:normal;font-family:Menlo,'DejaVu Sans Mono',consolas,'Courier New',monospace\"><span style=\"color: #7fbfbf; text-decoration-color: #7fbfbf\">                    </span><span style=\"color: #000080; text-decoration-color: #000080\">INFO    </span> Defined global variable <span style=\"color: #008000; text-decoration-color: #008000\">'context'</span>, <span style=\"color: #008000; text-decoration-color: #008000\">'session'</span>, <span style=\"color: #008000; text-decoration-color: #008000\">'catalog'</span> and            <a href=\"file:///opt/anaconda3/envs/genai/lib/python3.10/site-packages/kedro/ipython/__init__.py\" target=\"_blank\"><span style=\"color: #7f7f7f; text-decoration-color: #7f7f7f\">__init__.py</span></a><span style=\"color: #7f7f7f; text-decoration-color: #7f7f7f\">:</span><a href=\"file:///opt/anaconda3/envs/genai/lib/python3.10/site-packages/kedro/ipython/__init__.py#135\" target=\"_blank\"><span style=\"color: #7f7f7f; text-decoration-color: #7f7f7f\">135</span></a>\n",
       "<span style=\"color: #7fbfbf; text-decoration-color: #7fbfbf\">                    </span>         <span style=\"color: #008000; text-decoration-color: #008000\">'pipelines'</span>                                                            <span style=\"color: #7f7f7f; text-decoration-color: #7f7f7f\">               </span>\n",
       "</pre>\n"
      ],
      "text/plain": [
       "\u001b[2;36m                   \u001b[0m\u001b[2;36m \u001b[0m\u001b[34mINFO    \u001b[0m Defined global variable \u001b[32m'context'\u001b[0m, \u001b[32m'session'\u001b[0m, \u001b[32m'catalog'\u001b[0m and            \u001b]8;id=436504;file:///opt/anaconda3/envs/genai/lib/python3.10/site-packages/kedro/ipython/__init__.py\u001b\\\u001b[2m__init__.py\u001b[0m\u001b]8;;\u001b\\\u001b[2m:\u001b[0m\u001b]8;id=451473;file:///opt/anaconda3/envs/genai/lib/python3.10/site-packages/kedro/ipython/__init__.py#135\u001b\\\u001b[2m135\u001b[0m\u001b]8;;\u001b\\\n",
       "\u001b[2;36m                    \u001b[0m         \u001b[32m'pipelines'\u001b[0m                                                            \u001b[2m               \u001b[0m\n"
      ]
     },
     "metadata": {},
     "output_type": "display_data"
    },
    {
     "data": {
      "text/html": [
       "<pre style=\"white-space:pre;overflow-x:auto;line-height:normal;font-family:Menlo,'DejaVu Sans Mono',consolas,'Courier New',monospace\"><span style=\"color: #7fbfbf; text-decoration-color: #7fbfbf\">[04/22/24 16:54:26] </span><span style=\"color: #000080; text-decoration-color: #000080\">INFO    </span> Registered line magic <span style=\"color: #008000; text-decoration-color: #008000\">'run_viz'</span>                                        <a href=\"file:///opt/anaconda3/envs/genai/lib/python3.10/site-packages/kedro/ipython/__init__.py\" target=\"_blank\"><span style=\"color: #7f7f7f; text-decoration-color: #7f7f7f\">__init__.py</span></a><span style=\"color: #7f7f7f; text-decoration-color: #7f7f7f\">:</span><a href=\"file:///opt/anaconda3/envs/genai/lib/python3.10/site-packages/kedro/ipython/__init__.py#141\" target=\"_blank\"><span style=\"color: #7f7f7f; text-decoration-color: #7f7f7f\">141</span></a>\n",
       "</pre>\n"
      ],
      "text/plain": [
       "\u001b[2;36m[04/22/24 16:54:26]\u001b[0m\u001b[2;36m \u001b[0m\u001b[34mINFO    \u001b[0m Registered line magic \u001b[32m'run_viz'\u001b[0m                                        \u001b]8;id=311325;file:///opt/anaconda3/envs/genai/lib/python3.10/site-packages/kedro/ipython/__init__.py\u001b\\\u001b[2m__init__.py\u001b[0m\u001b]8;;\u001b\\\u001b[2m:\u001b[0m\u001b]8;id=640241;file:///opt/anaconda3/envs/genai/lib/python3.10/site-packages/kedro/ipython/__init__.py#141\u001b\\\u001b[2m141\u001b[0m\u001b]8;;\u001b\\\n"
      ]
     },
     "metadata": {},
     "output_type": "display_data"
    }
   ],
   "source": [
    "%load_ext kedro.ipython"
   ]
  },
  {
   "cell_type": "code",
   "execution_count": 2,
   "metadata": {},
   "outputs": [],
   "source": [
    "import requests"
   ]
  },
  {
   "cell_type": "code",
   "execution_count": 3,
   "metadata": {},
   "outputs": [
    {
     "data": {
      "text/html": [
       "<pre style=\"white-space:pre;overflow-x:auto;line-height:normal;font-family:Menlo,'DejaVu Sans Mono',consolas,'Courier New',monospace\"></pre>\n"
      ],
      "text/plain": []
     },
     "metadata": {},
     "output_type": "display_data"
    },
    {
     "data": {
      "text/plain": [
       "\n",
       "\u001b[1m[\u001b[0m\n",
       "    \u001b[32m'docs_dict'\u001b[0m,\n",
       "    \u001b[32m'pdfs_dict'\u001b[0m,\n",
       "    \u001b[32m'queries_file'\u001b[0m,\n",
       "    \u001b[32m'responses_file'\u001b[0m,\n",
       "    \u001b[32m'wordcloud'\u001b[0m,\n",
       "    \u001b[32m'evaluation_file'\u001b[0m,\n",
       "    \u001b[32m'parameters'\u001b[0m,\n",
       "    \u001b[32m'params:websites'\u001b[0m,\n",
       "    \u001b[32m'params:pdfs_dir_path'\u001b[0m,\n",
       "    \u001b[32m'params:splitter'\u001b[0m,\n",
       "    \u001b[32m'params:splitter.chunk_size'\u001b[0m,\n",
       "    \u001b[32m'params:splitter.chunk_overlap'\u001b[0m,\n",
       "    \u001b[32m'params:splitter.separators'\u001b[0m,\n",
       "    \u001b[32m'params:embedding_model_name'\u001b[0m,\n",
       "    \u001b[32m'params:model_name'\u001b[0m,\n",
       "    \u001b[32m'params:temperature'\u001b[0m,\n",
       "    \u001b[32m'params:max_tokens'\u001b[0m,\n",
       "    \u001b[32m'params:vector_db'\u001b[0m,\n",
       "    \u001b[32m'params:vector_db.path'\u001b[0m,\n",
       "    \u001b[32m'params:vector_db.collection_name'\u001b[0m,\n",
       "    \u001b[32m'params:eval_api'\u001b[0m,\n",
       "    \u001b[32m'params:eval_api.domain'\u001b[0m,\n",
       "    \u001b[32m'params:eval_api.eval_endpoint'\u001b[0m,\n",
       "    \u001b[32m'params:eval_model'\u001b[0m,\n",
       "    \u001b[32m'params:eval_model_name'\u001b[0m,\n",
       "    \u001b[32m'params:eval_model_name.openai'\u001b[0m,\n",
       "    \u001b[32m'params:eval_model_name.anthropic'\u001b[0m,\n",
       "    \u001b[32m'params:criterion'\u001b[0m,\n",
       "    \u001b[32m'params:labelled_criterion'\u001b[0m,\n",
       "    \u001b[32m'params:api'\u001b[0m,\n",
       "    \u001b[32m'params:api.domain'\u001b[0m,\n",
       "    \u001b[32m'params:api.test_endpoint'\u001b[0m,\n",
       "    \u001b[32m'params:api.chat_endpoint'\u001b[0m,\n",
       "    \u001b[32m'params:start_index'\u001b[0m,\n",
       "    \u001b[32m'params:end_index'\u001b[0m\n",
       "\u001b[1m]\u001b[0m"
      ]
     },
     "execution_count": 3,
     "metadata": {},
     "output_type": "execute_result"
    }
   ],
   "source": [
    "catalog.list()"
   ]
  },
  {
   "cell_type": "code",
   "execution_count": 4,
   "metadata": {},
   "outputs": [
    {
     "data": {
      "text/html": [
       "<pre style=\"white-space:pre;overflow-x:auto;line-height:normal;font-family:Menlo,'DejaVu Sans Mono',consolas,'Courier New',monospace\"><span style=\"color: #7fbfbf; text-decoration-color: #7fbfbf\">                    </span><span style=\"color: #000080; text-decoration-color: #000080\">INFO    </span> Loading data from <span style=\"color: #ff8700; text-decoration-color: #ff8700\">params:eval_api</span> <span style=\"font-weight: bold\">(</span>MemoryDataset<span style=\"font-weight: bold\">)</span><span style=\"color: #808000; text-decoration-color: #808000\">...</span>               <a href=\"file:///opt/anaconda3/envs/genai/lib/python3.10/site-packages/kedro/io/data_catalog.py\" target=\"_blank\"><span style=\"color: #7f7f7f; text-decoration-color: #7f7f7f\">data_catalog.py</span></a><span style=\"color: #7f7f7f; text-decoration-color: #7f7f7f\">:</span><a href=\"file:///opt/anaconda3/envs/genai/lib/python3.10/site-packages/kedro/io/data_catalog.py#483\" target=\"_blank\"><span style=\"color: #7f7f7f; text-decoration-color: #7f7f7f\">483</span></a>\n",
       "</pre>\n"
      ],
      "text/plain": [
       "\u001b[2;36m                   \u001b[0m\u001b[2;36m \u001b[0m\u001b[34mINFO    \u001b[0m Loading data from \u001b[38;5;208mparams:eval_api\u001b[0m \u001b[1m(\u001b[0mMemoryDataset\u001b[1m)\u001b[0m\u001b[33m...\u001b[0m               \u001b]8;id=713400;file:///opt/anaconda3/envs/genai/lib/python3.10/site-packages/kedro/io/data_catalog.py\u001b\\\u001b[2mdata_catalog.py\u001b[0m\u001b]8;;\u001b\\\u001b[2m:\u001b[0m\u001b]8;id=618140;file:///opt/anaconda3/envs/genai/lib/python3.10/site-packages/kedro/io/data_catalog.py#483\u001b\\\u001b[2m483\u001b[0m\u001b]8;;\u001b\\\n"
      ]
     },
     "metadata": {},
     "output_type": "display_data"
    },
    {
     "data": {
      "text/html": [
       "<pre style=\"white-space:pre;overflow-x:auto;line-height:normal;font-family:Menlo,'DejaVu Sans Mono',consolas,'Courier New',monospace\"></pre>\n"
      ],
      "text/plain": []
     },
     "metadata": {},
     "output_type": "display_data"
    },
    {
     "data": {
      "text/plain": [
       "\u001b[1m{\u001b[0m\u001b[32m'domain'\u001b[0m: \u001b[32m'http://127.0.0.1:8000'\u001b[0m, \u001b[32m'eval_endpoint'\u001b[0m: \u001b[32m'/evaluate'\u001b[0m\u001b[1m}\u001b[0m"
      ]
     },
     "execution_count": 4,
     "metadata": {},
     "output_type": "execute_result"
    }
   ],
   "source": [
    "eval_api_params = catalog.load(\"params:eval_api\")\n",
    "eval_api_params"
   ]
  },
  {
   "cell_type": "code",
   "execution_count": 5,
   "metadata": {},
   "outputs": [
    {
     "name": "stdout",
     "output_type": "stream",
     "text": [
      "http://127.0.0.1:8000/evaluate\n"
     ]
    }
   ],
   "source": [
    "domain = eval_api_params[\"domain\"]\n",
    "eval_endpoint = eval_api_params[\"eval_endpoint\"]\n",
    "\n",
    "eval_url = domain + eval_endpoint\n",
    "print(eval_url)"
   ]
  },
  {
   "cell_type": "code",
   "execution_count": 6,
   "metadata": {},
   "outputs": [
    {
     "data": {
      "text/html": [
       "<pre style=\"white-space:pre;overflow-x:auto;line-height:normal;font-family:Menlo,'DejaVu Sans Mono',consolas,'Courier New',monospace\"><span style=\"color: #7fbfbf; text-decoration-color: #7fbfbf\">                    </span><span style=\"color: #000080; text-decoration-color: #000080\">INFO    </span> Loading data from <span style=\"color: #ff8700; text-decoration-color: #ff8700\">params:eval_model</span> <span style=\"font-weight: bold\">(</span>MemoryDataset<span style=\"font-weight: bold\">)</span><span style=\"color: #808000; text-decoration-color: #808000\">...</span>             <a href=\"file:///opt/anaconda3/envs/genai/lib/python3.10/site-packages/kedro/io/data_catalog.py\" target=\"_blank\"><span style=\"color: #7f7f7f; text-decoration-color: #7f7f7f\">data_catalog.py</span></a><span style=\"color: #7f7f7f; text-decoration-color: #7f7f7f\">:</span><a href=\"file:///opt/anaconda3/envs/genai/lib/python3.10/site-packages/kedro/io/data_catalog.py#483\" target=\"_blank\"><span style=\"color: #7f7f7f; text-decoration-color: #7f7f7f\">483</span></a>\n",
       "</pre>\n"
      ],
      "text/plain": [
       "\u001b[2;36m                   \u001b[0m\u001b[2;36m \u001b[0m\u001b[34mINFO    \u001b[0m Loading data from \u001b[38;5;208mparams:eval_model\u001b[0m \u001b[1m(\u001b[0mMemoryDataset\u001b[1m)\u001b[0m\u001b[33m...\u001b[0m             \u001b]8;id=281597;file:///opt/anaconda3/envs/genai/lib/python3.10/site-packages/kedro/io/data_catalog.py\u001b\\\u001b[2mdata_catalog.py\u001b[0m\u001b]8;;\u001b\\\u001b[2m:\u001b[0m\u001b]8;id=439055;file:///opt/anaconda3/envs/genai/lib/python3.10/site-packages/kedro/io/data_catalog.py#483\u001b\\\u001b[2m483\u001b[0m\u001b]8;;\u001b\\\n"
      ]
     },
     "metadata": {},
     "output_type": "display_data"
    },
    {
     "data": {
      "text/html": [
       "<pre style=\"white-space:pre;overflow-x:auto;line-height:normal;font-family:Menlo,'DejaVu Sans Mono',consolas,'Courier New',monospace\"><span style=\"color: #7fbfbf; text-decoration-color: #7fbfbf\">                    </span><span style=\"color: #000080; text-decoration-color: #000080\">INFO    </span> Loading data from <span style=\"color: #ff8700; text-decoration-color: #ff8700\">params:eval_model_name</span> <span style=\"font-weight: bold\">(</span>MemoryDataset<span style=\"font-weight: bold\">)</span><span style=\"color: #808000; text-decoration-color: #808000\">...</span>        <a href=\"file:///opt/anaconda3/envs/genai/lib/python3.10/site-packages/kedro/io/data_catalog.py\" target=\"_blank\"><span style=\"color: #7f7f7f; text-decoration-color: #7f7f7f\">data_catalog.py</span></a><span style=\"color: #7f7f7f; text-decoration-color: #7f7f7f\">:</span><a href=\"file:///opt/anaconda3/envs/genai/lib/python3.10/site-packages/kedro/io/data_catalog.py#483\" target=\"_blank\"><span style=\"color: #7f7f7f; text-decoration-color: #7f7f7f\">483</span></a>\n",
       "</pre>\n"
      ],
      "text/plain": [
       "\u001b[2;36m                   \u001b[0m\u001b[2;36m \u001b[0m\u001b[34mINFO    \u001b[0m Loading data from \u001b[38;5;208mparams:eval_model_name\u001b[0m \u001b[1m(\u001b[0mMemoryDataset\u001b[1m)\u001b[0m\u001b[33m...\u001b[0m        \u001b]8;id=203882;file:///opt/anaconda3/envs/genai/lib/python3.10/site-packages/kedro/io/data_catalog.py\u001b\\\u001b[2mdata_catalog.py\u001b[0m\u001b]8;;\u001b\\\u001b[2m:\u001b[0m\u001b]8;id=386906;file:///opt/anaconda3/envs/genai/lib/python3.10/site-packages/kedro/io/data_catalog.py#483\u001b\\\u001b[2m483\u001b[0m\u001b]8;;\u001b\\\n"
      ]
     },
     "metadata": {},
     "output_type": "display_data"
    },
    {
     "name": "stdout",
     "output_type": "stream",
     "text": [
      "openai\n",
      "gpt-4\n"
     ]
    }
   ],
   "source": [
    "eval_model = catalog.load(\"params:eval_model\")\n",
    "eval_model_name = catalog.load(\"params:eval_model_name\")[eval_model]\n",
    "\n",
    "print(eval_model)\n",
    "print(eval_model_name)"
   ]
  },
  {
   "cell_type": "code",
   "execution_count": 7,
   "metadata": {},
   "outputs": [
    {
     "data": {
      "text/html": [
       "<pre style=\"white-space:pre;overflow-x:auto;line-height:normal;font-family:Menlo,'DejaVu Sans Mono',consolas,'Courier New',monospace\"><span style=\"color: #7fbfbf; text-decoration-color: #7fbfbf\">                    </span><span style=\"color: #000080; text-decoration-color: #000080\">INFO    </span> Loading data from <span style=\"color: #ff8700; text-decoration-color: #ff8700\">params:criterion</span> <span style=\"font-weight: bold\">(</span>MemoryDataset<span style=\"font-weight: bold\">)</span><span style=\"color: #808000; text-decoration-color: #808000\">...</span>              <a href=\"file:///opt/anaconda3/envs/genai/lib/python3.10/site-packages/kedro/io/data_catalog.py\" target=\"_blank\"><span style=\"color: #7f7f7f; text-decoration-color: #7f7f7f\">data_catalog.py</span></a><span style=\"color: #7f7f7f; text-decoration-color: #7f7f7f\">:</span><a href=\"file:///opt/anaconda3/envs/genai/lib/python3.10/site-packages/kedro/io/data_catalog.py#483\" target=\"_blank\"><span style=\"color: #7f7f7f; text-decoration-color: #7f7f7f\">483</span></a>\n",
       "</pre>\n"
      ],
      "text/plain": [
       "\u001b[2;36m                   \u001b[0m\u001b[2;36m \u001b[0m\u001b[34mINFO    \u001b[0m Loading data from \u001b[38;5;208mparams:criterion\u001b[0m \u001b[1m(\u001b[0mMemoryDataset\u001b[1m)\u001b[0m\u001b[33m...\u001b[0m              \u001b]8;id=513701;file:///opt/anaconda3/envs/genai/lib/python3.10/site-packages/kedro/io/data_catalog.py\u001b\\\u001b[2mdata_catalog.py\u001b[0m\u001b]8;;\u001b\\\u001b[2m:\u001b[0m\u001b]8;id=255942;file:///opt/anaconda3/envs/genai/lib/python3.10/site-packages/kedro/io/data_catalog.py#483\u001b\\\u001b[2m483\u001b[0m\u001b]8;;\u001b\\\n"
      ]
     },
     "metadata": {},
     "output_type": "display_data"
    },
    {
     "data": {
      "text/html": [
       "<pre style=\"white-space:pre;overflow-x:auto;line-height:normal;font-family:Menlo,'DejaVu Sans Mono',consolas,'Courier New',monospace\"><span style=\"color: #7fbfbf; text-decoration-color: #7fbfbf\">                    </span><span style=\"color: #000080; text-decoration-color: #000080\">INFO    </span> Loading data from <span style=\"color: #ff8700; text-decoration-color: #ff8700\">params:labelled_criterion</span> <span style=\"font-weight: bold\">(</span>MemoryDataset<span style=\"font-weight: bold\">)</span><span style=\"color: #808000; text-decoration-color: #808000\">...</span>     <a href=\"file:///opt/anaconda3/envs/genai/lib/python3.10/site-packages/kedro/io/data_catalog.py\" target=\"_blank\"><span style=\"color: #7f7f7f; text-decoration-color: #7f7f7f\">data_catalog.py</span></a><span style=\"color: #7f7f7f; text-decoration-color: #7f7f7f\">:</span><a href=\"file:///opt/anaconda3/envs/genai/lib/python3.10/site-packages/kedro/io/data_catalog.py#483\" target=\"_blank\"><span style=\"color: #7f7f7f; text-decoration-color: #7f7f7f\">483</span></a>\n",
       "</pre>\n"
      ],
      "text/plain": [
       "\u001b[2;36m                   \u001b[0m\u001b[2;36m \u001b[0m\u001b[34mINFO    \u001b[0m Loading data from \u001b[38;5;208mparams:labelled_criterion\u001b[0m \u001b[1m(\u001b[0mMemoryDataset\u001b[1m)\u001b[0m\u001b[33m...\u001b[0m     \u001b]8;id=211759;file:///opt/anaconda3/envs/genai/lib/python3.10/site-packages/kedro/io/data_catalog.py\u001b\\\u001b[2mdata_catalog.py\u001b[0m\u001b]8;;\u001b\\\u001b[2m:\u001b[0m\u001b]8;id=7237;file:///opt/anaconda3/envs/genai/lib/python3.10/site-packages/kedro/io/data_catalog.py#483\u001b\\\u001b[2m483\u001b[0m\u001b]8;;\u001b\\\n"
      ]
     },
     "metadata": {},
     "output_type": "display_data"
    },
    {
     "name": "stdout",
     "output_type": "stream",
     "text": [
      "['coherence', 'helpfulness']\n",
      "['correctness', 'relevance']\n"
     ]
    }
   ],
   "source": [
    "criterion = catalog.load(\"params:criterion\")\n",
    "labelled_criterion = catalog.load(\"params:labelled_criterion\")\n",
    "\n",
    "print(criterion)\n",
    "print(labelled_criterion)"
   ]
  },
  {
   "cell_type": "code",
   "execution_count": 8,
   "metadata": {},
   "outputs": [
    {
     "data": {
      "text/html": [
       "<pre style=\"white-space:pre;overflow-x:auto;line-height:normal;font-family:Menlo,'DejaVu Sans Mono',consolas,'Courier New',monospace\"><span style=\"color: #7fbfbf; text-decoration-color: #7fbfbf\">                    </span><span style=\"color: #000080; text-decoration-color: #000080\">INFO    </span> Loading data from <span style=\"color: #ff8700; text-decoration-color: #ff8700\">responses_file</span> <span style=\"font-weight: bold\">(</span>CSVDataset<span style=\"font-weight: bold\">)</span><span style=\"color: #808000; text-decoration-color: #808000\">...</span>                   <a href=\"file:///opt/anaconda3/envs/genai/lib/python3.10/site-packages/kedro/io/data_catalog.py\" target=\"_blank\"><span style=\"color: #7f7f7f; text-decoration-color: #7f7f7f\">data_catalog.py</span></a><span style=\"color: #7f7f7f; text-decoration-color: #7f7f7f\">:</span><a href=\"file:///opt/anaconda3/envs/genai/lib/python3.10/site-packages/kedro/io/data_catalog.py#483\" target=\"_blank\"><span style=\"color: #7f7f7f; text-decoration-color: #7f7f7f\">483</span></a>\n",
       "</pre>\n"
      ],
      "text/plain": [
       "\u001b[2;36m                   \u001b[0m\u001b[2;36m \u001b[0m\u001b[34mINFO    \u001b[0m Loading data from \u001b[38;5;208mresponses_file\u001b[0m \u001b[1m(\u001b[0mCSVDataset\u001b[1m)\u001b[0m\u001b[33m...\u001b[0m                   \u001b]8;id=386659;file:///opt/anaconda3/envs/genai/lib/python3.10/site-packages/kedro/io/data_catalog.py\u001b\\\u001b[2mdata_catalog.py\u001b[0m\u001b]8;;\u001b\\\u001b[2m:\u001b[0m\u001b]8;id=581347;file:///opt/anaconda3/envs/genai/lib/python3.10/site-packages/kedro/io/data_catalog.py#483\u001b\\\u001b[2m483\u001b[0m\u001b]8;;\u001b\\\n"
      ]
     },
     "metadata": {},
     "output_type": "display_data"
    },
    {
     "data": {
      "text/html": [
       "<pre style=\"white-space:pre;overflow-x:auto;line-height:normal;font-family:Menlo,'DejaVu Sans Mono',consolas,'Courier New',monospace\"></pre>\n"
      ],
      "text/plain": []
     },
     "metadata": {},
     "output_type": "display_data"
    },
    {
     "data": {
      "text/html": [
       "<div>\n",
       "<style scoped>\n",
       "    .dataframe tbody tr th:only-of-type {\n",
       "        vertical-align: middle;\n",
       "    }\n",
       "\n",
       "    .dataframe tbody tr th {\n",
       "        vertical-align: top;\n",
       "    }\n",
       "\n",
       "    .dataframe thead th {\n",
       "        text-align: right;\n",
       "    }\n",
       "</style>\n",
       "<table border=\"1\" class=\"dataframe\">\n",
       "  <thead>\n",
       "    <tr style=\"text-align: right;\">\n",
       "      <th></th>\n",
       "      <th>queries</th>\n",
       "      <th>responses</th>\n",
       "      <th>page_contents</th>\n",
       "      <th>sources</th>\n",
       "    </tr>\n",
       "  </thead>\n",
       "  <tbody>\n",
       "    <tr>\n",
       "      <th>0</th>\n",
       "      <td>What is gestational diabetes and how is it dia...</td>\n",
       "      <td>Gestational diabetes (GDM) is diabetes that is...</td>\n",
       "      <td>.1 2 3 Managing GDM to improve outcomesFirst p...</td>\n",
       "      <td>data/01_raw/pdfs/gdm---an-update-on-screening-...</td>\n",
       "    </tr>\n",
       "    <tr>\n",
       "      <th>1</th>\n",
       "      <td>What are some healthy eating tips for people w...</td>\n",
       "      <td>Some healthy eating tips for people with diabe...</td>\n",
       "      <td>Healthy Eating When You Have Diabetes Diet is ...</td>\n",
       "      <td>data/01_raw/pdfs/DiabetesHub-NDRM2023-En-02-Be...</td>\n",
       "    </tr>\n",
       "    <tr>\n",
       "      <th>2</th>\n",
       "      <td>How can my outpatient bill for diabetes be cov...</td>\n",
       "      <td>You can offset your outpatient bill for diabet...</td>\n",
       "      <td>How your outpatient bill may be covered Offset...</td>\n",
       "      <td>data/01_raw/pdfs/DiabetesHub-NDRM2023-En-04-Su...</td>\n",
       "    </tr>\n",
       "    <tr>\n",
       "      <th>3</th>\n",
       "      <td>What is pre-diabetes and how does it differ fr...</td>\n",
       "      <td>Pre-diabetes is a condition where blood sugar ...</td>\n",
       "      <td>What is pre -diabetes? â¢Pre-diabetes is when...</td>\n",
       "      <td>data/01_raw/pdfs/DiabetesHub-NDRM2023-En-01-Be...</td>\n",
       "    </tr>\n",
       "    <tr>\n",
       "      <th>4</th>\n",
       "      <td>What are the potential health risks associated...</td>\n",
       "      <td>Potential health risks associated with having ...</td>\n",
       "      <td>Risk factors for developing pre-diabetes and T...</td>\n",
       "      <td>data/01_raw/pdfs/DiabetesHub-NDRM2023-En-01-Be...</td>\n",
       "    </tr>\n",
       "    <tr>\n",
       "      <th>...</th>\n",
       "      <td>...</td>\n",
       "      <td>...</td>\n",
       "      <td>...</td>\n",
       "      <td>...</td>\n",
       "    </tr>\n",
       "    <tr>\n",
       "      <th>232</th>\n",
       "      <td>What are some tips for affordable healthy groc...</td>\n",
       "      <td>Some tips for affordable healthy grocery shopp...</td>\n",
       "      <td>'De-junk' your kitchen 1.Avoid placing unhealt...</td>\n",
       "      <td>data/01_raw/pdfs/DiabetesHub-NDRM2023-En-02-Be...</td>\n",
       "    </tr>\n",
       "    <tr>\n",
       "      <th>233</th>\n",
       "      <td>How can I involve my family in adopting health...</td>\n",
       "      <td>You can involve your family in adopting health...</td>\n",
       "      <td>4. Do it together â¢For example, stop buying ...</td>\n",
       "      <td>data/01_raw/pdfs/DiabetesHub-NDRM2023-En-04-Su...</td>\n",
       "    </tr>\n",
       "    <tr>\n",
       "      <th>234</th>\n",
       "      <td>What resources are available for diabetes educ...</td>\n",
       "      <td>There are several resources available for diab...</td>\n",
       "      <td>Supporting  individuals with  diabetes 2</td>\n",
       "      <td>data/01_raw/pdfs/DiabetesHub-NDRM2023-En-04-Su...</td>\n",
       "    </tr>\n",
       "    <tr>\n",
       "      <th>235</th>\n",
       "      <td>How can I ensure I get high-quality coordinate...</td>\n",
       "      <td>To ensure you receive high-quality coordinated...</td>\n",
       "      <td>Know your healthcare professionals Photo credi...</td>\n",
       "      <td>data/01_raw/pdfs/find-a-healthcare-professiona...</td>\n",
       "    </tr>\n",
       "    <tr>\n",
       "      <th>236</th>\n",
       "      <td>Are there any clinical trials or new research ...</td>\n",
       "      <td>I'm sorry, I don't have that information. It's...</td>\n",
       "      <td>BE AWARE What can I do to manage diabetes? 17</td>\n",
       "      <td>data/01_raw/pdfs/DiabetesHub-NDRM2023-En-01-Be...</td>\n",
       "    </tr>\n",
       "  </tbody>\n",
       "</table>\n",
       "<p>237 rows × 4 columns</p>\n",
       "</div>"
      ],
      "text/plain": [
       "\n",
       "                                               queries  \\\n",
       "\u001b[1;36m0\u001b[0m    What is gestational diabetes and how is it dia\u001b[33m...\u001b[0m   \n",
       "\u001b[1;36m1\u001b[0m    What are some healthy eating tips for people w\u001b[33m...\u001b[0m   \n",
       "\u001b[1;36m2\u001b[0m    How can my outpatient bill for diabetes be cov\u001b[33m...\u001b[0m   \n",
       "\u001b[1;36m3\u001b[0m    What is pre-diabetes and how does it differ fr\u001b[33m...\u001b[0m   \n",
       "\u001b[1;36m4\u001b[0m    What are the potential health risks associated\u001b[33m...\u001b[0m   \n",
       "..                                                 \u001b[33m...\u001b[0m   \n",
       "\u001b[1;36m232\u001b[0m  What are some tips for affordable healthy groc\u001b[33m...\u001b[0m   \n",
       "\u001b[1;36m233\u001b[0m  How can I involve my family in adopting health\u001b[33m...\u001b[0m   \n",
       "\u001b[1;36m234\u001b[0m  What resources are available for diabetes educ\u001b[33m...\u001b[0m   \n",
       "\u001b[1;36m235\u001b[0m  How can I ensure I get high-quality coordinate\u001b[33m...\u001b[0m   \n",
       "\u001b[1;36m236\u001b[0m  Are there any clinical trials or new research \u001b[33m...\u001b[0m   \n",
       "\n",
       "                                             responses  \\\n",
       "\u001b[1;36m0\u001b[0m    Gestational diabetes \u001b[1m(\u001b[0mGDM\u001b[1m)\u001b[0m is diabetes that is\u001b[33m...\u001b[0m   \n",
       "\u001b[1;36m1\u001b[0m    Some healthy eating tips for people with diabe\u001b[33m...\u001b[0m   \n",
       "\u001b[1;36m2\u001b[0m    You can offset your outpatient bill for diabet\u001b[33m...\u001b[0m   \n",
       "\u001b[1;36m3\u001b[0m    Pre-diabetes is a condition where blood sugar \u001b[33m...\u001b[0m   \n",
       "\u001b[1;36m4\u001b[0m    Potential health risks associated with having \u001b[33m...\u001b[0m   \n",
       "..                                                 \u001b[33m...\u001b[0m   \n",
       "\u001b[1;36m232\u001b[0m  Some tips for affordable healthy grocery shopp\u001b[33m...\u001b[0m   \n",
       "\u001b[1;36m233\u001b[0m  You can involve your family in adopting health\u001b[33m...\u001b[0m   \n",
       "\u001b[1;36m234\u001b[0m  There are several resources available for diab\u001b[33m...\u001b[0m   \n",
       "\u001b[1;36m235\u001b[0m  To ensure you receive high-quality coordinated\u001b[33m...\u001b[0m   \n",
       "\u001b[1;36m236\u001b[0m  I'm sorry, I don't have that information. It's\u001b[33m...\u001b[0m   \n",
       "\n",
       "                                         page_contents  \\\n",
       "\u001b[1;36m0\u001b[0m    .\u001b[1;36m1\u001b[0m \u001b[1;36m2\u001b[0m \u001b[1;36m3\u001b[0m Managing GDM to improve outcomesFirst p\u001b[33m...\u001b[0m   \n",
       "\u001b[1;36m1\u001b[0m    Healthy Eating When You Have Diabetes Diet is \u001b[33m...\u001b[0m   \n",
       "\u001b[1;36m2\u001b[0m    How your outpatient bill may be covered Offset\u001b[33m...\u001b[0m   \n",
       "\u001b[1;36m3\u001b[0m    What is pre -diabetes? â¢Pre-diabetes is when\u001b[33m...\u001b[0m   \n",
       "\u001b[1;36m4\u001b[0m    Risk factors for developing pre-diabetes and T\u001b[33m...\u001b[0m   \n",
       "..                                                 \u001b[33m...\u001b[0m   \n",
       "\u001b[1;36m232\u001b[0m  \u001b[32m'De-junk'\u001b[0m your kitchen \u001b[1;36m1.\u001b[0mAvoid placing unhealt\u001b[33m...\u001b[0m   \n",
       "\u001b[1;36m233\u001b[0m  \u001b[1;36m4\u001b[0m. Do it together â¢For example, stop buying \u001b[33m...\u001b[0m   \n",
       "\u001b[1;36m234\u001b[0m           Supporting  individuals with  diabetes \u001b[1;36m2\u001b[0m   \n",
       "\u001b[1;36m235\u001b[0m  Know your healthcare professionals Photo credi\u001b[33m...\u001b[0m   \n",
       "\u001b[1;36m236\u001b[0m      BE AWARE What can I do to manage diabetes? \u001b[1;36m17\u001b[0m   \n",
       "\n",
       "                                               sources  \n",
       "\u001b[1;36m0\u001b[0m    data/01_raw/pdfs/gdm---an-update-on-screening-\u001b[33m...\u001b[0m  \n",
       "\u001b[1;36m1\u001b[0m    data/01_raw/pdfs/DiabetesHub-NDRM2023-En-\u001b[1;36m02\u001b[0m-Be\u001b[33m...\u001b[0m  \n",
       "\u001b[1;36m2\u001b[0m    data/01_raw/pdfs/DiabetesHub-NDRM2023-En-\u001b[1;36m04\u001b[0m-Su\u001b[33m...\u001b[0m  \n",
       "\u001b[1;36m3\u001b[0m    data/01_raw/pdfs/DiabetesHub-NDRM2023-En-\u001b[1;36m01\u001b[0m-Be\u001b[33m...\u001b[0m  \n",
       "\u001b[1;36m4\u001b[0m    data/01_raw/pdfs/DiabetesHub-NDRM2023-En-\u001b[1;36m01\u001b[0m-Be\u001b[33m...\u001b[0m  \n",
       "..                                                 \u001b[33m...\u001b[0m  \n",
       "\u001b[1;36m232\u001b[0m  data/01_raw/pdfs/DiabetesHub-NDRM2023-En-\u001b[1;36m02\u001b[0m-Be\u001b[33m...\u001b[0m  \n",
       "\u001b[1;36m233\u001b[0m  data/01_raw/pdfs/DiabetesHub-NDRM2023-En-\u001b[1;36m04\u001b[0m-Su\u001b[33m...\u001b[0m  \n",
       "\u001b[1;36m234\u001b[0m  data/01_raw/pdfs/DiabetesHub-NDRM2023-En-\u001b[1;36m04\u001b[0m-Su\u001b[33m...\u001b[0m  \n",
       "\u001b[1;36m235\u001b[0m  data/01_raw/pdfs/find-a-healthcare-professiona\u001b[33m...\u001b[0m  \n",
       "\u001b[1;36m236\u001b[0m  data/01_raw/pdfs/DiabetesHub-NDRM2023-En-\u001b[1;36m01\u001b[0m-Be\u001b[33m...\u001b[0m  \n",
       "\n",
       "\u001b[1m[\u001b[0m\u001b[1;36m237\u001b[0m rows x \u001b[1;36m4\u001b[0m columns\u001b[1m]\u001b[0m"
      ]
     },
     "execution_count": 8,
     "metadata": {},
     "output_type": "execute_result"
    }
   ],
   "source": [
    "responses_df = catalog.load(\"responses_file\")\n",
    "responses_df"
   ]
  },
  {
   "cell_type": "code",
   "execution_count": 9,
   "metadata": {},
   "outputs": [],
   "source": [
    "idx = 1\n",
    "\n",
    "query = responses_df.iloc[idx][\"queries\"]\n",
    "response = responses_df.iloc[idx][\"responses\"]\n",
    "page_content = responses_df.iloc[idx][\"page_contents\"]"
   ]
  },
  {
   "cell_type": "code",
   "execution_count": 10,
   "metadata": {},
   "outputs": [
    {
     "data": {
      "text/html": [
       "<pre style=\"white-space:pre;overflow-x:auto;line-height:normal;font-family:Menlo,'DejaVu Sans Mono',consolas,'Courier New',monospace\"></pre>\n"
      ],
      "text/plain": []
     },
     "metadata": {},
     "output_type": "display_data"
    },
    {
     "data": {
      "text/plain": [
       "\n",
       "\u001b[1m{\u001b[0m\n",
       "    \u001b[32m'query'\u001b[0m: \u001b[32m'What are some healthy eating tips for people with diabetes?'\u001b[0m,\n",
       "    \u001b[32m'response'\u001b[0m: \u001b[32m'Some healthy eating tips for people with diabetes include eating well to help with diabetes control, managing weight, blood pressure, cholesterol levels, and overall health. It is recommended to eat in moderation, avoid alcohol as much as possible, maintain medication schedule and insulin dosage, plan meals ahead, opt for healthier products, and use healthier cooking methods. For personalized nutritional advice, it is advisable to consult a healthcare professional such as a dietitian.'\u001b[0m,\n",
       "    \u001b[32m'page_content'\u001b[0m: \u001b[32m'Healthy Eating When You Have Diabetes Diet is an important part of diabetes management. Eating well not only helps with your diabetes  control, but also with weight, blood pressure, cholesterol levels and general health. Healthy eating is recommended for everyone, including individuals with diabetes. All individuals can enjoy the same healthy meals. Read on for a general guide on how you can make healthy food choices and have a balanced diet.  For nutritional advice personalised to your condition and needs,  do speak to a healthcare professional such as a dietitian. 2'\u001b[0m,\n",
       "    \u001b[32m'coherence'\u001b[0m: \u001b[1m{\u001b[0m\n",
       "        \u001b[32m'reasoning'\u001b[0m: \u001b[32m'The criterion for this assessment is coherence, which includes being well-structured and organized.\\n\\nLooking at the submission, it is clear that the response is coherent. The ideas flow logically from one to the next, starting with a general statement about the importance of eating well for diabetes control and overall health. \\n\\nThe submission then provides specific tips such as eating in moderation, avoiding alcohol, maintaining medication and insulin schedules, planning meals ahead, opting for healthier products, and using healthier cooking methods. Each of these points is clearly related to the topic of healthy eating for people with diabetes, and they are presented in a logical order.\\n\\nThe submission is also well-structured. It begins with a general statement, then provides specific tips, and ends with a recommendation to consult a healthcare professional for personalized advice. This structure helps to guide the reader through the information in a logical and organized way.\\n\\nTherefore, the submission meets the criterion of being coherent, well-structured, and organized.\\n\\nY'\u001b[0m,\n",
       "        \u001b[32m'value'\u001b[0m: \u001b[32m'Y'\u001b[0m,\n",
       "        \u001b[32m'score'\u001b[0m: \u001b[1;36m1\u001b[0m\n",
       "    \u001b[1m}\u001b[0m,\n",
       "    \u001b[32m'helpfulness'\u001b[0m: \u001b[1m{\u001b[0m\n",
       "        \u001b[32m'reasoning'\u001b[0m: \u001b[32m'The criterion for this task is the helpfulness of the submission. \\n\\nThe submission provides a list of tips for healthy eating for people with diabetes. These tips include eating in moderation, avoiding alcohol, maintaining medication and insulin schedules, planning meals, opting for healthier products, and using healthier cooking methods. \\n\\nThese tips are helpful and insightful as they provide practical advice that can be implemented in daily life. They are also appropriate as they are specifically tailored to people with diabetes, who was the target audience mentioned in the input. \\n\\nThe submission also advises consulting a healthcare professional for personalized nutritional advice, which is a helpful and appropriate suggestion. \\n\\nTherefore, the submission meets the criterion of being helpful, insightful, and appropriate. \\n\\nY'\u001b[0m,\n",
       "        \u001b[32m'value'\u001b[0m: \u001b[32m'Y'\u001b[0m,\n",
       "        \u001b[32m'score'\u001b[0m: \u001b[1;36m1\u001b[0m\n",
       "    \u001b[1m}\u001b[0m,\n",
       "    \u001b[32m'correctness'\u001b[0m: \u001b[1m{\u001b[0m\n",
       "        \u001b[32m'reasoning'\u001b[0m: \u001b[32m'The criterion for this task is the correctness of the submission. The submission should be accurate, factual, and correct. \\n\\nLooking at the submission, it provides several healthy eating tips for people with diabetes. These include eating well for diabetes control, managing weight, blood pressure, cholesterol levels, and overall health. It also suggests eating in moderation, avoiding alcohol, maintaining medication and insulin dosage, planning meals ahead, opting for healthier products, and using healthier cooking methods. \\n\\nComparing this with the reference, the submission aligns well. The reference also emphasizes the importance of diet in managing diabetes and suggests that healthy eating can help with weight, blood pressure, cholesterol levels, and general health. It also recommends seeking personalized nutritional advice from a healthcare professional, which the submission also mentions. \\n\\nTherefore, the submission appears to be correct, accurate, and factual, meeting the given criterion. \\n\\nY'\u001b[0m,\n",
       "        \u001b[32m'value'\u001b[0m: \u001b[32m'Y'\u001b[0m,\n",
       "        \u001b[32m'score'\u001b[0m: \u001b[1;36m1\u001b[0m\n",
       "    \u001b[1m}\u001b[0m,\n",
       "    \u001b[32m'relevance'\u001b[0m: \u001b[1m{\u001b[0m\n",
       "        \u001b[32m'reasoning'\u001b[0m: \u001b[32m'The criterion for this task is to assess whether the submission is referring to a real quote from the text. \\n\\nLooking at the submission, it provides healthy eating tips for people with diabetes, which includes eating well, managing weight, blood pressure, cholesterol levels, and overall health. It also suggests eating in moderation, avoiding alcohol, maintaining medication schedule and insulin dosage, planning meals ahead, opting for healthier products, and using healthier cooking methods. Lastly, it recommends consulting a healthcare professional for personalized nutritional advice.\\n\\nComparing this with the reference text, the submission does not seem to be a direct quote from the text. The reference text talks about the importance of diet in diabetes management, how eating well helps with diabetes control, weight, blood pressure, cholesterol levels, and general health. It also mentions that everyone can enjoy the same healthy meals and recommends speaking to a healthcare professional for personalized nutritional advice.\\n\\nWhile the submission and the reference text share similar themes and advice, the submission does not directly quote the reference text. Therefore, based on the given criterion, the submission does not meet the criteria.\\n\\nN'\u001b[0m,\n",
       "        \u001b[32m'value'\u001b[0m: \u001b[32m'N'\u001b[0m,\n",
       "        \u001b[32m'score'\u001b[0m: \u001b[1;36m0\u001b[0m\n",
       "    \u001b[1m}\u001b[0m\n",
       "\u001b[1m}\u001b[0m"
      ]
     },
     "execution_count": 10,
     "metadata": {},
     "output_type": "execute_result"
    }
   ],
   "source": [
    "criterion_response = requests.post(\n",
    "    eval_url, json={\"query\": query, \"response\": response, \"page_content\": page_content}\n",
    ")\n",
    "criterion_response.json()"
   ]
  },
  {
   "cell_type": "code",
   "execution_count": null,
   "metadata": {},
   "outputs": [],
   "source": []
  }
 ],
 "metadata": {
  "kernelspec": {
   "display_name": "genai",
   "language": "python",
   "name": "python3"
  },
  "language_info": {
   "codemirror_mode": {
    "name": "ipython",
    "version": 3
   },
   "file_extension": ".py",
   "mimetype": "text/x-python",
   "name": "python",
   "nbconvert_exporter": "python",
   "pygments_lexer": "ipython3",
   "version": "3.10.14"
  }
 },
 "nbformat": 4,
 "nbformat_minor": 2
}
