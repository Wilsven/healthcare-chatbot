{
 "cells": [
  {
   "cell_type": "code",
   "execution_count": 1,
   "metadata": {},
   "outputs": [
    {
     "data": {
      "text/html": [
       "<pre style=\"white-space:pre;overflow-x:auto;line-height:normal;font-family:Menlo,'DejaVu Sans Mono',consolas,'Courier New',monospace\"><span style=\"color: #7fbfbf; text-decoration-color: #7fbfbf\">[04/22/24 20:02:02] </span><span style=\"color: #000080; text-decoration-color: #000080\">INFO    </span> Registered line magic <span style=\"color: #008000; text-decoration-color: #008000\">'%reload_kedro'</span>                                   <a href=\"file:///opt/anaconda3/envs/genai/lib/python3.10/site-packages/kedro/ipython/__init__.py\" target=\"_blank\"><span style=\"color: #7f7f7f; text-decoration-color: #7f7f7f\">__init__.py</span></a><span style=\"color: #7f7f7f; text-decoration-color: #7f7f7f\">:</span><a href=\"file:///opt/anaconda3/envs/genai/lib/python3.10/site-packages/kedro/ipython/__init__.py#51\" target=\"_blank\"><span style=\"color: #7f7f7f; text-decoration-color: #7f7f7f\">51</span></a>\n",
       "</pre>\n"
      ],
      "text/plain": [
       "\u001b[2;36m[04/22/24 20:02:02]\u001b[0m\u001b[2;36m \u001b[0m\u001b[34mINFO    \u001b[0m Registered line magic \u001b[32m'%reload_kedro'\u001b[0m                                   \u001b]8;id=13747;file:///opt/anaconda3/envs/genai/lib/python3.10/site-packages/kedro/ipython/__init__.py\u001b\\\u001b[2m__init__.py\u001b[0m\u001b]8;;\u001b\\\u001b[2m:\u001b[0m\u001b]8;id=864346;file:///opt/anaconda3/envs/genai/lib/python3.10/site-packages/kedro/ipython/__init__.py#51\u001b\\\u001b[2m51\u001b[0m\u001b]8;;\u001b\\\n"
      ]
     },
     "metadata": {},
     "output_type": "display_data"
    },
    {
     "data": {
      "text/html": [
       "<pre style=\"white-space:pre;overflow-x:auto;line-height:normal;font-family:Menlo,'DejaVu Sans Mono',consolas,'Courier New',monospace\"><span style=\"color: #7fbfbf; text-decoration-color: #7fbfbf\">                    </span><span style=\"color: #000080; text-decoration-color: #000080\">INFO    </span> Registered line magic <span style=\"color: #008000; text-decoration-color: #008000\">'%load_node'</span>                                      <a href=\"file:///opt/anaconda3/envs/genai/lib/python3.10/site-packages/kedro/ipython/__init__.py\" target=\"_blank\"><span style=\"color: #7f7f7f; text-decoration-color: #7f7f7f\">__init__.py</span></a><span style=\"color: #7f7f7f; text-decoration-color: #7f7f7f\">:</span><a href=\"file:///opt/anaconda3/envs/genai/lib/python3.10/site-packages/kedro/ipython/__init__.py#53\" target=\"_blank\"><span style=\"color: #7f7f7f; text-decoration-color: #7f7f7f\">53</span></a>\n",
       "</pre>\n"
      ],
      "text/plain": [
       "\u001b[2;36m                   \u001b[0m\u001b[2;36m \u001b[0m\u001b[34mINFO    \u001b[0m Registered line magic \u001b[32m'%load_node'\u001b[0m                                      \u001b]8;id=502593;file:///opt/anaconda3/envs/genai/lib/python3.10/site-packages/kedro/ipython/__init__.py\u001b\\\u001b[2m__init__.py\u001b[0m\u001b]8;;\u001b\\\u001b[2m:\u001b[0m\u001b]8;id=525308;file:///opt/anaconda3/envs/genai/lib/python3.10/site-packages/kedro/ipython/__init__.py#53\u001b\\\u001b[2m53\u001b[0m\u001b]8;;\u001b\\\n"
      ]
     },
     "metadata": {},
     "output_type": "display_data"
    },
    {
     "data": {
      "text/html": [
       "<pre style=\"white-space:pre;overflow-x:auto;line-height:normal;font-family:Menlo,'DejaVu Sans Mono',consolas,'Courier New',monospace\"><span style=\"color: #7fbfbf; text-decoration-color: #7fbfbf\">                    </span><span style=\"color: #000080; text-decoration-color: #000080\">INFO    </span> Resolved project path as:                                              <a href=\"file:///opt/anaconda3/envs/genai/lib/python3.10/site-packages/kedro/ipython/__init__.py\" target=\"_blank\"><span style=\"color: #7f7f7f; text-decoration-color: #7f7f7f\">__init__.py</span></a><span style=\"color: #7f7f7f; text-decoration-color: #7f7f7f\">:</span><a href=\"file:///opt/anaconda3/envs/genai/lib/python3.10/site-packages/kedro/ipython/__init__.py#164\" target=\"_blank\"><span style=\"color: #7f7f7f; text-decoration-color: #7f7f7f\">164</span></a>\n",
       "<span style=\"color: #7fbfbf; text-decoration-color: #7fbfbf\">                    </span>         <span style=\"color: #800080; text-decoration-color: #800080\">/Users/wilsvenleong/Downloads/</span><span style=\"color: #ff00ff; text-decoration-color: #ff00ff\">healthcare-chatbot.</span>                      <span style=\"color: #7f7f7f; text-decoration-color: #7f7f7f\">               </span>\n",
       "<span style=\"color: #7fbfbf; text-decoration-color: #7fbfbf\">                    </span>         To set a different path, run <span style=\"color: #008000; text-decoration-color: #008000\">'%reload_kedro &lt;project_root&gt;'</span>            <span style=\"color: #7f7f7f; text-decoration-color: #7f7f7f\">               </span>\n",
       "</pre>\n"
      ],
      "text/plain": [
       "\u001b[2;36m                   \u001b[0m\u001b[2;36m \u001b[0m\u001b[34mINFO    \u001b[0m Resolved project path as:                                              \u001b]8;id=801832;file:///opt/anaconda3/envs/genai/lib/python3.10/site-packages/kedro/ipython/__init__.py\u001b\\\u001b[2m__init__.py\u001b[0m\u001b]8;;\u001b\\\u001b[2m:\u001b[0m\u001b]8;id=375240;file:///opt/anaconda3/envs/genai/lib/python3.10/site-packages/kedro/ipython/__init__.py#164\u001b\\\u001b[2m164\u001b[0m\u001b]8;;\u001b\\\n",
       "\u001b[2;36m                    \u001b[0m         \u001b[35m/Users/wilsvenleong/Downloads/\u001b[0m\u001b[95mhealthcare-chatbot.\u001b[0m                      \u001b[2m               \u001b[0m\n",
       "\u001b[2;36m                    \u001b[0m         To set a different path, run \u001b[32m'%reload_kedro \u001b[0m\u001b[32m<\u001b[0m\u001b[32mproject_root\u001b[0m\u001b[32m>\u001b[0m\u001b[32m'\u001b[0m            \u001b[2m               \u001b[0m\n"
      ]
     },
     "metadata": {},
     "output_type": "display_data"
    },
    {
     "data": {
      "text/html": [
       "<pre style=\"white-space:pre;overflow-x:auto;line-height:normal;font-family:Menlo,'DejaVu Sans Mono',consolas,'Courier New',monospace\"><span style=\"color: #7fbfbf; text-decoration-color: #7fbfbf\">[04/22/24 20:02:04] </span><span style=\"color: #000080; text-decoration-color: #000080\">INFO    </span> Kedro project Healthcare Chatbot                                       <a href=\"file:///opt/anaconda3/envs/genai/lib/python3.10/site-packages/kedro/ipython/__init__.py\" target=\"_blank\"><span style=\"color: #7f7f7f; text-decoration-color: #7f7f7f\">__init__.py</span></a><span style=\"color: #7f7f7f; text-decoration-color: #7f7f7f\">:</span><a href=\"file:///opt/anaconda3/envs/genai/lib/python3.10/site-packages/kedro/ipython/__init__.py#134\" target=\"_blank\"><span style=\"color: #7f7f7f; text-decoration-color: #7f7f7f\">134</span></a>\n",
       "</pre>\n"
      ],
      "text/plain": [
       "\u001b[2;36m[04/22/24 20:02:04]\u001b[0m\u001b[2;36m \u001b[0m\u001b[34mINFO    \u001b[0m Kedro project Healthcare Chatbot                                       \u001b]8;id=743474;file:///opt/anaconda3/envs/genai/lib/python3.10/site-packages/kedro/ipython/__init__.py\u001b\\\u001b[2m__init__.py\u001b[0m\u001b]8;;\u001b\\\u001b[2m:\u001b[0m\u001b]8;id=392808;file:///opt/anaconda3/envs/genai/lib/python3.10/site-packages/kedro/ipython/__init__.py#134\u001b\\\u001b[2m134\u001b[0m\u001b]8;;\u001b\\\n"
      ]
     },
     "metadata": {},
     "output_type": "display_data"
    },
    {
     "data": {
      "text/html": [
       "<pre style=\"white-space:pre;overflow-x:auto;line-height:normal;font-family:Menlo,'DejaVu Sans Mono',consolas,'Courier New',monospace\"><span style=\"color: #7fbfbf; text-decoration-color: #7fbfbf\">                    </span><span style=\"color: #000080; text-decoration-color: #000080\">INFO    </span> Defined global variable <span style=\"color: #008000; text-decoration-color: #008000\">'context'</span>, <span style=\"color: #008000; text-decoration-color: #008000\">'session'</span>, <span style=\"color: #008000; text-decoration-color: #008000\">'catalog'</span> and            <a href=\"file:///opt/anaconda3/envs/genai/lib/python3.10/site-packages/kedro/ipython/__init__.py\" target=\"_blank\"><span style=\"color: #7f7f7f; text-decoration-color: #7f7f7f\">__init__.py</span></a><span style=\"color: #7f7f7f; text-decoration-color: #7f7f7f\">:</span><a href=\"file:///opt/anaconda3/envs/genai/lib/python3.10/site-packages/kedro/ipython/__init__.py#135\" target=\"_blank\"><span style=\"color: #7f7f7f; text-decoration-color: #7f7f7f\">135</span></a>\n",
       "<span style=\"color: #7fbfbf; text-decoration-color: #7fbfbf\">                    </span>         <span style=\"color: #008000; text-decoration-color: #008000\">'pipelines'</span>                                                            <span style=\"color: #7f7f7f; text-decoration-color: #7f7f7f\">               </span>\n",
       "</pre>\n"
      ],
      "text/plain": [
       "\u001b[2;36m                   \u001b[0m\u001b[2;36m \u001b[0m\u001b[34mINFO    \u001b[0m Defined global variable \u001b[32m'context'\u001b[0m, \u001b[32m'session'\u001b[0m, \u001b[32m'catalog'\u001b[0m and            \u001b]8;id=399090;file:///opt/anaconda3/envs/genai/lib/python3.10/site-packages/kedro/ipython/__init__.py\u001b\\\u001b[2m__init__.py\u001b[0m\u001b]8;;\u001b\\\u001b[2m:\u001b[0m\u001b]8;id=899813;file:///opt/anaconda3/envs/genai/lib/python3.10/site-packages/kedro/ipython/__init__.py#135\u001b\\\u001b[2m135\u001b[0m\u001b]8;;\u001b\\\n",
       "\u001b[2;36m                    \u001b[0m         \u001b[32m'pipelines'\u001b[0m                                                            \u001b[2m               \u001b[0m\n"
      ]
     },
     "metadata": {},
     "output_type": "display_data"
    },
    {
     "data": {
      "text/html": [
       "<pre style=\"white-space:pre;overflow-x:auto;line-height:normal;font-family:Menlo,'DejaVu Sans Mono',consolas,'Courier New',monospace\"><span style=\"color: #7fbfbf; text-decoration-color: #7fbfbf\">                    </span><span style=\"color: #000080; text-decoration-color: #000080\">INFO    </span> Registered line magic <span style=\"color: #008000; text-decoration-color: #008000\">'run_viz'</span>                                        <a href=\"file:///opt/anaconda3/envs/genai/lib/python3.10/site-packages/kedro/ipython/__init__.py\" target=\"_blank\"><span style=\"color: #7f7f7f; text-decoration-color: #7f7f7f\">__init__.py</span></a><span style=\"color: #7f7f7f; text-decoration-color: #7f7f7f\">:</span><a href=\"file:///opt/anaconda3/envs/genai/lib/python3.10/site-packages/kedro/ipython/__init__.py#141\" target=\"_blank\"><span style=\"color: #7f7f7f; text-decoration-color: #7f7f7f\">141</span></a>\n",
       "</pre>\n"
      ],
      "text/plain": [
       "\u001b[2;36m                   \u001b[0m\u001b[2;36m \u001b[0m\u001b[34mINFO    \u001b[0m Registered line magic \u001b[32m'run_viz'\u001b[0m                                        \u001b]8;id=457974;file:///opt/anaconda3/envs/genai/lib/python3.10/site-packages/kedro/ipython/__init__.py\u001b\\\u001b[2m__init__.py\u001b[0m\u001b]8;;\u001b\\\u001b[2m:\u001b[0m\u001b]8;id=854207;file:///opt/anaconda3/envs/genai/lib/python3.10/site-packages/kedro/ipython/__init__.py#141\u001b\\\u001b[2m141\u001b[0m\u001b]8;;\u001b\\\n"
      ]
     },
     "metadata": {},
     "output_type": "display_data"
    }
   ],
   "source": [
    "%load_ext kedro.ipython"
   ]
  },
  {
   "cell_type": "code",
   "execution_count": 2,
   "metadata": {},
   "outputs": [],
   "source": [
    "import pandas as pd\n",
    "import matplotlib.pyplot as plt"
   ]
  },
  {
   "cell_type": "code",
   "execution_count": 3,
   "metadata": {},
   "outputs": [
    {
     "data": {
      "text/html": [
       "<pre style=\"white-space:pre;overflow-x:auto;line-height:normal;font-family:Menlo,'DejaVu Sans Mono',consolas,'Courier New',monospace\"></pre>\n"
      ],
      "text/plain": []
     },
     "metadata": {},
     "output_type": "display_data"
    },
    {
     "data": {
      "text/plain": [
       "\n",
       "\u001b[1m[\u001b[0m\n",
       "    \u001b[32m'docs_dict'\u001b[0m,\n",
       "    \u001b[32m'pdfs_dict'\u001b[0m,\n",
       "    \u001b[32m'queries_file'\u001b[0m,\n",
       "    \u001b[32m'responses_file'\u001b[0m,\n",
       "    \u001b[32m'wordcloud'\u001b[0m,\n",
       "    \u001b[32m'evaluations_file'\u001b[0m,\n",
       "    \u001b[32m'parameters'\u001b[0m,\n",
       "    \u001b[32m'params:websites'\u001b[0m,\n",
       "    \u001b[32m'params:pdfs_dir_path'\u001b[0m,\n",
       "    \u001b[32m'params:splitter'\u001b[0m,\n",
       "    \u001b[32m'params:splitter.chunk_size'\u001b[0m,\n",
       "    \u001b[32m'params:splitter.chunk_overlap'\u001b[0m,\n",
       "    \u001b[32m'params:splitter.separators'\u001b[0m,\n",
       "    \u001b[32m'params:embedding_model_name'\u001b[0m,\n",
       "    \u001b[32m'params:model_name'\u001b[0m,\n",
       "    \u001b[32m'params:temperature'\u001b[0m,\n",
       "    \u001b[32m'params:max_tokens'\u001b[0m,\n",
       "    \u001b[32m'params:vector_db'\u001b[0m,\n",
       "    \u001b[32m'params:vector_db.path'\u001b[0m,\n",
       "    \u001b[32m'params:vector_db.collection_name'\u001b[0m,\n",
       "    \u001b[32m'params:eval_api'\u001b[0m,\n",
       "    \u001b[32m'params:eval_api.domain'\u001b[0m,\n",
       "    \u001b[32m'params:eval_api.eval_endpoint'\u001b[0m,\n",
       "    \u001b[32m'params:eval_model'\u001b[0m,\n",
       "    \u001b[32m'params:eval_model_name'\u001b[0m,\n",
       "    \u001b[32m'params:eval_model_name.openai'\u001b[0m,\n",
       "    \u001b[32m'params:eval_model_name.anthropic'\u001b[0m,\n",
       "    \u001b[32m'params:criterion'\u001b[0m,\n",
       "    \u001b[32m'params:labelled_criterion'\u001b[0m,\n",
       "    \u001b[32m'params:start_eval_index'\u001b[0m,\n",
       "    \u001b[32m'params:end_eval_index'\u001b[0m,\n",
       "    \u001b[32m'params:api'\u001b[0m,\n",
       "    \u001b[32m'params:api.domain'\u001b[0m,\n",
       "    \u001b[32m'params:api.test_endpoint'\u001b[0m,\n",
       "    \u001b[32m'params:api.chat_endpoint'\u001b[0m,\n",
       "    \u001b[32m'params:start_index'\u001b[0m,\n",
       "    \u001b[32m'params:end_index'\u001b[0m\n",
       "\u001b[1m]\u001b[0m"
      ]
     },
     "execution_count": 3,
     "metadata": {},
     "output_type": "execute_result"
    }
   ],
   "source": [
    "catalog.list()"
   ]
  },
  {
   "cell_type": "code",
   "execution_count": 4,
   "metadata": {},
   "outputs": [
    {
     "data": {
      "text/html": [
       "<pre style=\"white-space:pre;overflow-x:auto;line-height:normal;font-family:Menlo,'DejaVu Sans Mono',consolas,'Courier New',monospace\"><span style=\"color: #7fbfbf; text-decoration-color: #7fbfbf\">                    </span><span style=\"color: #000080; text-decoration-color: #000080\">INFO    </span> Loading data from <span style=\"color: #ff8700; text-decoration-color: #ff8700\">params:criterion</span> <span style=\"font-weight: bold\">(</span>MemoryDataset<span style=\"font-weight: bold\">)</span><span style=\"color: #808000; text-decoration-color: #808000\">...</span>              <a href=\"file:///opt/anaconda3/envs/genai/lib/python3.10/site-packages/kedro/io/data_catalog.py\" target=\"_blank\"><span style=\"color: #7f7f7f; text-decoration-color: #7f7f7f\">data_catalog.py</span></a><span style=\"color: #7f7f7f; text-decoration-color: #7f7f7f\">:</span><a href=\"file:///opt/anaconda3/envs/genai/lib/python3.10/site-packages/kedro/io/data_catalog.py#483\" target=\"_blank\"><span style=\"color: #7f7f7f; text-decoration-color: #7f7f7f\">483</span></a>\n",
       "</pre>\n"
      ],
      "text/plain": [
       "\u001b[2;36m                   \u001b[0m\u001b[2;36m \u001b[0m\u001b[34mINFO    \u001b[0m Loading data from \u001b[38;5;208mparams:criterion\u001b[0m \u001b[1m(\u001b[0mMemoryDataset\u001b[1m)\u001b[0m\u001b[33m...\u001b[0m              \u001b]8;id=41769;file:///opt/anaconda3/envs/genai/lib/python3.10/site-packages/kedro/io/data_catalog.py\u001b\\\u001b[2mdata_catalog.py\u001b[0m\u001b]8;;\u001b\\\u001b[2m:\u001b[0m\u001b]8;id=181079;file:///opt/anaconda3/envs/genai/lib/python3.10/site-packages/kedro/io/data_catalog.py#483\u001b\\\u001b[2m483\u001b[0m\u001b]8;;\u001b\\\n"
      ]
     },
     "metadata": {},
     "output_type": "display_data"
    },
    {
     "data": {
      "text/html": [
       "<pre style=\"white-space:pre;overflow-x:auto;line-height:normal;font-family:Menlo,'DejaVu Sans Mono',consolas,'Courier New',monospace\"><span style=\"color: #7fbfbf; text-decoration-color: #7fbfbf\">                    </span><span style=\"color: #000080; text-decoration-color: #000080\">INFO    </span> Loading data from <span style=\"color: #ff8700; text-decoration-color: #ff8700\">params:labelled_criterion</span> <span style=\"font-weight: bold\">(</span>MemoryDataset<span style=\"font-weight: bold\">)</span><span style=\"color: #808000; text-decoration-color: #808000\">...</span>     <a href=\"file:///opt/anaconda3/envs/genai/lib/python3.10/site-packages/kedro/io/data_catalog.py\" target=\"_blank\"><span style=\"color: #7f7f7f; text-decoration-color: #7f7f7f\">data_catalog.py</span></a><span style=\"color: #7f7f7f; text-decoration-color: #7f7f7f\">:</span><a href=\"file:///opt/anaconda3/envs/genai/lib/python3.10/site-packages/kedro/io/data_catalog.py#483\" target=\"_blank\"><span style=\"color: #7f7f7f; text-decoration-color: #7f7f7f\">483</span></a>\n",
       "</pre>\n"
      ],
      "text/plain": [
       "\u001b[2;36m                   \u001b[0m\u001b[2;36m \u001b[0m\u001b[34mINFO    \u001b[0m Loading data from \u001b[38;5;208mparams:labelled_criterion\u001b[0m \u001b[1m(\u001b[0mMemoryDataset\u001b[1m)\u001b[0m\u001b[33m...\u001b[0m     \u001b]8;id=582383;file:///opt/anaconda3/envs/genai/lib/python3.10/site-packages/kedro/io/data_catalog.py\u001b\\\u001b[2mdata_catalog.py\u001b[0m\u001b]8;;\u001b\\\u001b[2m:\u001b[0m\u001b]8;id=973497;file:///opt/anaconda3/envs/genai/lib/python3.10/site-packages/kedro/io/data_catalog.py#483\u001b\\\u001b[2m483\u001b[0m\u001b]8;;\u001b\\\n"
      ]
     },
     "metadata": {},
     "output_type": "display_data"
    }
   ],
   "source": [
    "criterion = catalog.load(\"params:criterion\")\n",
    "labelled_criterion = catalog.load(\"params:labelled_criterion\")"
   ]
  },
  {
   "cell_type": "code",
   "execution_count": 5,
   "metadata": {},
   "outputs": [
    {
     "data": {
      "text/html": [
       "<pre style=\"white-space:pre;overflow-x:auto;line-height:normal;font-family:Menlo,'DejaVu Sans Mono',consolas,'Courier New',monospace\"><span style=\"color: #7fbfbf; text-decoration-color: #7fbfbf\">                    </span><span style=\"color: #000080; text-decoration-color: #000080\">INFO    </span> Loading data from <span style=\"color: #ff8700; text-decoration-color: #ff8700\">evaluations_file</span> <span style=\"font-weight: bold\">(</span>JSONDataset<span style=\"font-weight: bold\">)</span><span style=\"color: #808000; text-decoration-color: #808000\">...</span>                <a href=\"file:///opt/anaconda3/envs/genai/lib/python3.10/site-packages/kedro/io/data_catalog.py\" target=\"_blank\"><span style=\"color: #7f7f7f; text-decoration-color: #7f7f7f\">data_catalog.py</span></a><span style=\"color: #7f7f7f; text-decoration-color: #7f7f7f\">:</span><a href=\"file:///opt/anaconda3/envs/genai/lib/python3.10/site-packages/kedro/io/data_catalog.py#483\" target=\"_blank\"><span style=\"color: #7f7f7f; text-decoration-color: #7f7f7f\">483</span></a>\n",
       "</pre>\n"
      ],
      "text/plain": [
       "\u001b[2;36m                   \u001b[0m\u001b[2;36m \u001b[0m\u001b[34mINFO    \u001b[0m Loading data from \u001b[38;5;208mevaluations_file\u001b[0m \u001b[1m(\u001b[0mJSONDataset\u001b[1m)\u001b[0m\u001b[33m...\u001b[0m                \u001b]8;id=59776;file:///opt/anaconda3/envs/genai/lib/python3.10/site-packages/kedro/io/data_catalog.py\u001b\\\u001b[2mdata_catalog.py\u001b[0m\u001b]8;;\u001b\\\u001b[2m:\u001b[0m\u001b]8;id=919623;file:///opt/anaconda3/envs/genai/lib/python3.10/site-packages/kedro/io/data_catalog.py#483\u001b\\\u001b[2m483\u001b[0m\u001b]8;;\u001b\\\n"
      ]
     },
     "metadata": {},
     "output_type": "display_data"
    },
    {
     "data": {
      "text/html": [
       "<pre style=\"white-space:pre;overflow-x:auto;line-height:normal;font-family:Menlo,'DejaVu Sans Mono',consolas,'Courier New',monospace\"></pre>\n"
      ],
      "text/plain": []
     },
     "metadata": {},
     "output_type": "display_data"
    },
    {
     "data": {
      "text/plain": [
       "\n",
       "\u001b[1m[\u001b[0m\n",
       "    \u001b[1m{\u001b[0m\n",
       "        \u001b[32m'query'\u001b[0m: \u001b[32m'What is gestational diabetes and how is it diagnosed?'\u001b[0m,\n",
       "        \u001b[32m'response'\u001b[0m: \u001b[32m'Gestational diabetes \u001b[0m\u001b[32m(\u001b[0m\u001b[32mGDM\u001b[0m\u001b[32m)\u001b[0m\u001b[32m is diabetes that is diagnosed during the second or third trimester of pregnancy. It is often caused by underlying √ü-cell dysfunction or insulin resistance worsened by decreased insulin sensitivity during pregnancy. The prevalence of GDM is higher in Eastern and Southeast Asian countries compared to Western and African countries. In Singapore, GDM occurs in around 1 in 4 to 5 pregnant women. GDM can increase the risk of maternal and neonatal complications such as preeclampsia, macrosomia, and shoulder dystocia.   GDM is diagnosed through glucose testing during pregnancy. If diabetes is first identified during pregnancy, it may represent undiagnosed pre-existing diabetes. It is important for pregnant women to be screened for GDM to ensure proper management and reduce the risk of complications for both the mother and baby.'\u001b[0m,\n",
       "        \u001b[32m'page_content'\u001b[0m: \u001b[32m'.1 2 3 Managing GDM to improve outcomesFirst published: 28 May 2018  Last updated: 22 August 2022 Women with diabetes during pregnancy \u001b[0m\u001b[32m(\u001b[0m\u001b[32mdefined as  glucose levels higher than normal, including  diabetes, GDM, and pre-diabetes\u001b[0m\u001b[32m)\u001b[0m\u001b[32m are at increased risk  of maternal and neonatal complications \u001b[0m\u001b[32m(\u001b[0m\u001b[32msuch as preeclampsia, macrosomia, and shoulder dystocia\u001b[0m\u001b[32m)\u001b[0m\u001b[32m  compared to those without diabetes.1 When diabetes  is first identified during pregnancy, this may  represent undiagnosed pre-existing diabetes. GDM is  diabetes diagnosed in the second or third trimester.  The pathophysiology is often underlying √ü-cell  dysfunction or insulin resistance worsened by  decreased insulin sensitivity during pregnancy.1,2The prevalence of GDM in Eastern and Southeast Asian  countries is approximately 1 in 10, which is higher than  Western and African countries.3 In Singapore, GDM occurs  in around 1 in 4 to 5 pregnant women‚Äîa higher  prevalence than other countries in the Eastern and  Southeast Asian region'\u001b[0m,\n",
       "        \u001b[32m'coherence'\u001b[0m: \u001b[1m{\u001b[0m\n",
       "            \u001b[32m'reasoning'\u001b[0m: \u001b[32m'The criterion for this assessment is coherence, which involves the submission being well-structured, organized, and making sense as a whole. \\n\\nLooking at the submission, it starts by defining what gestational diabetes is, including when it is typically diagnosed and what causes it. This is a logical starting point and provides a clear definition for the reader. \\n\\nThe submission then moves on to discuss the prevalence of gestational diabetes, providing specific data about its occurrence in Singapore. This information is relevant and adds depth to the answer, but it is also well-organized, following logically from the initial definition.\\n\\nNext, the submission discusses the risks associated with gestational diabetes, which is a logical next step after defining the condition and discussing its prevalence. This information is important for understanding why gestational diabetes is a concern.\\n\\nFinally, the submission explains how gestational diabetes is diagnosed, which directly answers the second part of the input question. This is a logical conclusion to the submission, wrapping up the answer in a coherent and organized manner.\\n\\nOverall, the submission is coherent, well-structured, and organized. It follows a logical flow of information, from defining gestational diabetes, to discussing its prevalence and risks, to explaining how it is diagnosed. Each part of the submission is relevant to the input question and contributes to a comprehensive answer.\\n\\nY'\u001b[0m,\n",
       "            \u001b[32m'value'\u001b[0m: \u001b[32m'Y'\u001b[0m,\n",
       "            \u001b[32m'score'\u001b[0m: \u001b[1;36m1\u001b[0m\n",
       "        \u001b[1m}\u001b[0m,\n",
       "        \u001b[32m'helpfulness'\u001b[0m: \u001b[1m{\u001b[0m\n",
       "            \u001b[32m'reasoning'\u001b[0m: \u001b[32m'The criterion for this task is \"helpfulness\". \\n\\nThe submission provides a detailed explanation of what gestational diabetes is, including its causes, prevalence, and potential risks. It also explains how it is diagnosed and the importance of screening during pregnancy. This information is relevant and insightful for someone who wants to understand gestational diabetes. \\n\\nThe submission is also appropriate as it directly answers the question and does not include any offensive or inappropriate content. \\n\\nTherefore, the submission meets the criterion of being helpful, insightful, and appropriate. \\n\\nY'\u001b[0m,\n",
       "            \u001b[32m'value'\u001b[0m: \u001b[32m'Y'\u001b[0m,\n",
       "            \u001b[32m'score'\u001b[0m: \u001b[1;36m1\u001b[0m\n",
       "        \u001b[1m}\u001b[0m,\n",
       "        \u001b[32m'correctness'\u001b[0m: \u001b[1m{\u001b[0m\n",
       "            \u001b[32m'reasoning'\u001b[0m: \u001b[32m'The criterion for this task is the correctness of the submission. The submission should be accurate, factual, and correct. \\n\\n1. The submission correctly identifies gestational diabetes \u001b[0m\u001b[32m(\u001b[0m\u001b[32mGDM\u001b[0m\u001b[32m)\u001b[0m\u001b[32m as a type of diabetes that is diagnosed during the second or third trimester of pregnancy. This matches the reference material.\\n\\n2. The submission accurately describes the pathophysiology of GDM, stating that it is often caused by underlying √ü-cell dysfunction or insulin resistance worsened by decreased insulin sensitivity during pregnancy. This is also in line with the reference material.\\n\\n3. The submission correctly states that the prevalence of GDM is higher in Eastern and Southeast Asian countries compared to Western and African countries. This is supported by the reference material.\\n\\n4. The submission correctly states that GDM can increase the risk of maternal and neonatal complications such as preeclampsia, macrosomia, and shoulder dystocia. This is also supported by the reference material.\\n\\n5. The submission correctly states that GDM is diagnosed through glucose testing during pregnancy. This is a common method of diagnosing GDM.\\n\\n6. The submission correctly states that if diabetes is first identified during pregnancy, it may represent undiagnosed pre-existing diabetes. This is also supported by the reference material.\\n\\nBased on the above points, the submission appears to be correct, accurate, and factual. It aligns well with the reference material and provides a comprehensive answer to the input question.\\n\\nY'\u001b[0m,\n",
       "            \u001b[32m'value'\u001b[0m: \u001b[32m'Y'\u001b[0m,\n",
       "            \u001b[32m'score'\u001b[0m: \u001b[1;36m1\u001b[0m\n",
       "        \u001b[1m}\u001b[0m,\n",
       "        \u001b[32m'relevance'\u001b[0m: \u001b[1m{\u001b[0m\n",
       "            \u001b[32m'reasoning'\u001b[0m: \u001b[32m'The criterion for this task is to assess whether the submission is referring to a real quote from the text. \\n\\nLooking at the submission, it discusses gestational diabetes \u001b[0m\u001b[32m(\u001b[0m\u001b[32mGDM\u001b[0m\u001b[32m)\u001b[0m\u001b[32m, its causes, prevalence, risks, and diagnosis. It specifically mentions that GDM is diagnosed during the second or third trimester of pregnancy, often caused by underlying √ü-cell dysfunction or insulin resistance worsened by decreased insulin sensitivity during pregnancy. It also mentions the prevalence of GDM in Eastern and Southeast Asian countries and Singapore, and the risks associated with GDM such as preeclampsia, macrosomia, and shoulder dystocia. \\n\\nComparing this with the reference text, it is clear that the submission is referring to the same topics. The reference text also discusses GDM, its causes, prevalence, risks, and diagnosis. It specifically mentions that GDM is diagnosed in the second or third trimester, often caused by underlying √ü-cell dysfunction or insulin resistance worsened by decreased insulin sensitivity during pregnancy. It also mentions the prevalence of GDM in Eastern and Southeast Asian countries and Singapore, and the risks associated with GDM such as preeclampsia, macrosomia, and shoulder dystocia. \\n\\nTherefore, the submission is referring to a real quote from the text and meets the criterion.\\n\\nY'\u001b[0m,\n",
       "            \u001b[32m'value'\u001b[0m: \u001b[32m'Y'\u001b[0m,\n",
       "            \u001b[32m'score'\u001b[0m: \u001b[1;36m1\u001b[0m\n",
       "        \u001b[1m}\u001b[0m\n",
       "    \u001b[1m}\u001b[0m,\n",
       "    \u001b[1m{\u001b[0m\n",
       "        \u001b[32m'query'\u001b[0m: \u001b[32m'What are some healthy eating tips for people with diabetes?'\u001b[0m,\n",
       "        \u001b[32m'response'\u001b[0m: \u001b[32m'Some healthy eating tips for people with diabetes include eating well to help with diabetes control, managing weight, blood pressure, cholesterol levels, and overall health. It is recommended to eat in moderation, avoid alcohol as much as possible, maintain medication schedule and insulin dosage, plan meals ahead, opt for healthier products, and use healthier cooking methods. For personalized nutritional advice, it is advisable to consult a healthcare professional such as a dietitian.'\u001b[0m,\n",
       "        \u001b[32m'page_content'\u001b[0m: \u001b[32m'Healthy Eating When You Have Diabetes Diet is an important part of diabetes management. Eating well not only helps with your diabetes  control, but also with weight, blood pressure, cholesterol levels and general health. Healthy eating is recommended for everyone, including individuals with diabetes. All individuals can enjoy the same healthy meals. Read on for a general guide on how you can make healthy food choices and have a balanced diet.  For nutritional advice personalised to your condition and needs,  do speak to a healthcare professional such as a dietitian. 2'\u001b[0m,\n",
       "        \u001b[32m'coherence'\u001b[0m: \u001b[1m{\u001b[0m\n",
       "            \u001b[32m'reasoning'\u001b[0m: \u001b[32m'The criterion for this assessment is coherence, which includes being well-structured and organized.\\n\\nLooking at the submission, it is clear that the response is coherent. The ideas flow logically from one to the next, starting with a general statement about the importance of eating well for diabetes control and overall health. \\n\\nThe submission then provides specific tips such as eating in moderation, avoiding alcohol, maintaining medication and insulin schedules, planning meals ahead, opting for healthier products, and using healthier cooking methods. Each of these points is clearly related to the topic of healthy eating for people with diabetes, and they are presented in a logical order.\\n\\nThe submission is also well-structured. It begins with a general statement, then provides specific tips, and ends with a recommendation to consult a healthcare professional for personalized advice. This structure helps to guide the reader through the information in a logical and organized way.\\n\\nTherefore, the submission meets the criterion of being coherent, well-structured, and organized.\\n\\nY'\u001b[0m,\n",
       "            \u001b[32m'value'\u001b[0m: \u001b[32m'Y'\u001b[0m,\n",
       "            \u001b[32m'score'\u001b[0m: \u001b[1;36m1\u001b[0m\n",
       "        \u001b[1m}\u001b[0m,\n",
       "        \u001b[32m'helpfulness'\u001b[0m: \u001b[1m{\u001b[0m\n",
       "            \u001b[32m'reasoning'\u001b[0m: \u001b[32m'The criterion for this task is the helpfulness of the submission. \\n\\nThe submission provides a list of tips for healthy eating for people with diabetes. These tips include eating in moderation, avoiding alcohol, maintaining medication and insulin schedules, planning meals, opting for healthier products, and using healthier cooking methods. \\n\\nThese tips are helpful and insightful as they provide practical advice that can be implemented in daily life. They are also appropriate as they are specifically tailored to people with diabetes, who was the target audience mentioned in the input. \\n\\nThe submission also advises consulting a healthcare professional for personalized nutritional advice, which is a helpful and appropriate suggestion. \\n\\nTherefore, the submission meets the criterion of being helpful, insightful, and appropriate. \\n\\nY'\u001b[0m,\n",
       "            \u001b[32m'value'\u001b[0m: \u001b[32m'Y'\u001b[0m,\n",
       "            \u001b[32m'score'\u001b[0m: \u001b[1;36m1\u001b[0m\n",
       "        \u001b[1m}\u001b[0m,\n",
       "        \u001b[32m'correctness'\u001b[0m: \u001b[1m{\u001b[0m\n",
       "            \u001b[32m'reasoning'\u001b[0m: \u001b[32m'The criterion for this task is the correctness of the submission. The submission should be accurate, factual, and correct. \\n\\nLooking at the submission, it provides several healthy eating tips for people with diabetes. These include eating well for diabetes control, managing weight, blood pressure, cholesterol levels, and overall health. It also suggests eating in moderation, avoiding alcohol, maintaining medication and insulin dosage, planning meals ahead, opting for healthier products, and using healthier cooking methods. \\n\\nComparing this with the reference, the submission aligns well. The reference also emphasizes the importance of diet in managing diabetes and suggests that healthy eating can help with weight, blood pressure, cholesterol levels, and general health. It also recommends seeking personalized nutritional advice from a healthcare professional, which the submission also mentions. \\n\\nTherefore, the submission appears to be correct, accurate, and factual, meeting the given criterion. \\n\\nY'\u001b[0m,\n",
       "            \u001b[32m'value'\u001b[0m: \u001b[32m'Y'\u001b[0m,\n",
       "            \u001b[32m'score'\u001b[0m: \u001b[1;36m1\u001b[0m\n",
       "        \u001b[1m}\u001b[0m,\n",
       "        \u001b[32m'relevance'\u001b[0m: \u001b[1m{\u001b[0m\n",
       "            \u001b[32m'reasoning'\u001b[0m: \u001b[32m'The criterion for this task is to assess whether the submission is referring to a real quote from the text. \\n\\nLooking at the submission, it provides healthy eating tips for people with diabetes, which includes eating well, managing weight, blood pressure, cholesterol levels, and overall health. It also suggests eating in moderation, avoiding alcohol, maintaining medication schedule and insulin dosage, planning meals ahead, opting for healthier products, and using healthier cooking methods. Lastly, it recommends consulting a healthcare professional for personalized nutritional advice.\\n\\nComparing this with the reference text, the submission does not seem to be a direct quote from the text. The reference text talks about the importance of diet in diabetes management, how eating well helps with diabetes control, weight, blood pressure, cholesterol levels, and general health. It also mentions that everyone can enjoy the same healthy meals and recommends speaking to a healthcare professional for personalized nutritional advice.\\n\\nWhile the submission and the reference text share similar themes and advice, the submission does not directly quote the reference text. Therefore, based on the given criterion, the submission does not meet the criteria.\\n\\nN'\u001b[0m,\n",
       "            \u001b[32m'value'\u001b[0m: \u001b[32m'N'\u001b[0m,\n",
       "            \u001b[32m'score'\u001b[0m: \u001b[1;36m0\u001b[0m\n",
       "        \u001b[1m}\u001b[0m\n",
       "    \u001b[1m}\u001b[0m,\n",
       "    \u001b[1m{\u001b[0m\n",
       "        \u001b[32m'query'\u001b[0m: \u001b[32m'How can my outpatient bill for diabetes be covered?'\u001b[0m,\n",
       "        \u001b[32m'response'\u001b[0m: \u001b[32m'You can offset your outpatient bill for diabetes by first utilizing government subsidies available at public specialist outpatient clinics and polyclinics, as well as through schemes like the Community Health Assist Scheme \u001b[0m\u001b[32m(\u001b[0m\u001b[32mCHAS\u001b[0m\u001b[32m)\u001b[0m\u001b[32m, Pioneer Generation \u001b[0m\u001b[32m(\u001b[0m\u001b[32mPG\u001b[0m\u001b[32m)\u001b[0m\u001b[32m, and Merdeka Generation \u001b[0m\u001b[32m(\u001b[0m\u001b[32mMG\u001b[0m\u001b[32m)\u001b[0m\u001b[32m outpatient subsidies. Additionally, you can further reduce your bill by tapping into employee benefits or private medical insurance. If needed, you can also use your MediSave through the Chronic Disease Management Programme \u001b[0m\u001b[32m(\u001b[0m\u001b[32mCDMP\u001b[0m\u001b[32m)\u001b[0m\u001b[32m to reduce out-of-pocket costs. After deducting from these sources, you may still need to cover the remaining bill with out-of-pocket payment.'\u001b[0m,\n",
       "        \u001b[32m'page_content'\u001b[0m: \u001b[32m'How your outpatient bill may be covered Offset your bill with  government subsidies first E.g., Government subsidies at  public specialist outpatient  clinics and polyclinics,  Community Health Assist  Scheme \u001b[0m\u001b[32m(\u001b[0m\u001b[32mCHAS\u001b[0m\u001b[32m)\u001b[0m\u001b[32m, Pioneer  Generation \u001b[0m\u001b[32m(\u001b[0m\u001b[32mPG\u001b[0m\u001b[32m)\u001b[0m\u001b[32m and Merdeka  Generation \u001b[0m\u001b[32m(\u001b[0m\u001b[32mMG\u001b[0m\u001b[32m)\u001b[0m\u001b[32m outpatient  subsidies Then, if available,  further reduce  your bill by tapping  on employee  benefits or private  medical insuranceYou can then use your  MediSave through the  Chronic Disease  Management  Programme \u001b[0m\u001b[32m(\u001b[0m\u001b[32mCDMP\u001b[0m\u001b[32m)\u001b[0m\u001b[32m to  reduce out -of-pocket  costsAfter deduction  from the sources  above, you may still  need to cover the  remaining bill  with out- ofpocket paymentGovernment subsidies 15'\u001b[0m,\n",
       "        \u001b[32m'coherence'\u001b[0m: \u001b[1m{\u001b[0m\n",
       "            \u001b[32m'reasoning'\u001b[0m: \u001b[32m'The criterion for this assessment is coherence, which includes being well-structured and organized. \\n\\nLooking at the submission, it starts by providing a general solution to the question asked, which is about offsetting outpatient bills for diabetes. The answer then proceeds to give specific ways to achieve this, such as utilizing government subsidies, tapping into employee benefits or private medical insurance, and using MediSave. \\n\\nThe submission is well-structured, as it starts with a general statement and then provides specific solutions. It is also organized, as it groups the solutions into categories: government subsidies, employee benefits or private medical insurance, and MediSave. \\n\\nThe submission is coherent, as it logically connects the different parts of the answer and provides a clear and understandable response to the question. \\n\\nTherefore, based on the criterion of coherence, the submission meets the criteria. \\n\\nY'\u001b[0m,\n",
       "            \u001b[32m'value'\u001b[0m: \u001b[32m'Y'\u001b[0m,\n",
       "            \u001b[32m'score'\u001b[0m: \u001b[1;36m1\u001b[0m\n",
       "        \u001b[1m}\u001b[0m,\n",
       "        \u001b[32m'helpfulness'\u001b[0m: \u001b[1m{\u001b[0m\n",
       "            \u001b[32m'reasoning'\u001b[0m: \u001b[32m'The criterion for this task is \"helpfulness\". \\n\\nThe submission provides a detailed response to the input question about how an outpatient bill for diabetes can be covered. It mentions several specific resources and strategies, such as government subsidies, employee benefits, private medical insurance, and the use of MediSave through the Chronic Disease Management Programme. \\n\\nThe submission is insightful as it not only provides a list of potential resources but also explains how they can be used in combination to reduce out-of-pocket costs. \\n\\nThe submission is appropriate as it directly addresses the input question and provides relevant information. \\n\\nBased on this analysis, the submission meets the criterion of being helpful, insightful, and appropriate.\\n\\nY'\u001b[0m,\n",
       "            \u001b[32m'value'\u001b[0m: \u001b[32m'Y'\u001b[0m,\n",
       "            \u001b[32m'score'\u001b[0m: \u001b[1;36m1\u001b[0m\n",
       "        \u001b[1m}\u001b[0m,\n",
       "        \u001b[32m'correctness'\u001b[0m: \u001b[1m{\u001b[0m\n",
       "            \u001b[32m'reasoning'\u001b[0m: \u001b[32m'The criterion for this task is the correctness of the information provided in the submission. \\n\\n1. The submission mentions that the outpatient bill for diabetes can be offset by utilizing government subsidies available at public specialist outpatient clinics and polyclinics. This is in line with the reference data which also mentions government subsidies at public specialist outpatient clinics and polyclinics.\\n\\n2. The submission also mentions the Community Health Assist Scheme \u001b[0m\u001b[32m(\u001b[0m\u001b[32mCHAS\u001b[0m\u001b[32m)\u001b[0m\u001b[32m, Pioneer Generation \u001b[0m\u001b[32m(\u001b[0m\u001b[32mPG\u001b[0m\u001b[32m)\u001b[0m\u001b[32m, and Merdeka Generation \u001b[0m\u001b[32m(\u001b[0m\u001b[32mMG\u001b[0m\u001b[32m)\u001b[0m\u001b[32m outpatient subsidies. These are also mentioned in the reference data.\\n\\n3. The submission suggests further reducing the bill by tapping into employee benefits or private medical insurance. This is also suggested in the reference data.\\n\\n4. The submission mentions using MediSave through the Chronic Disease Management Programme \u001b[0m\u001b[32m(\u001b[0m\u001b[32mCDMP\u001b[0m\u001b[32m)\u001b[0m\u001b[32m to reduce out-of-pocket costs. This is also mentioned in the reference data.\\n\\n5. Finally, the submission mentions that after deducting from these sources, there may still be a need to cover the remaining bill with out-of-pocket payment. This is also mentioned in the reference data.\\n\\nBased on the above analysis, the submission is correct, accurate, and factual as it aligns with the reference data.\\n\\nY'\u001b[0m,\n",
       "            \u001b[32m'value'\u001b[0m: \u001b[32m'Y'\u001b[0m,\n",
       "            \u001b[32m'score'\u001b[0m: \u001b[1;36m1\u001b[0m\n",
       "        \u001b[1m}\u001b[0m,\n",
       "        \u001b[32m'relevance'\u001b[0m: \u001b[1m{\u001b[0m\n",
       "            \u001b[32m'reasoning'\u001b[0m: \u001b[32m'The criterion is to assess if the submission is referring to a real quote from the text. \\n\\nLooking at the submission, it provides a detailed explanation on how an outpatient bill for diabetes can be covered. It mentions government subsidies, employee benefits, private medical insurance, and MediSave through the Chronic Disease Management Programme \u001b[0m\u001b[32m(\u001b[0m\u001b[32mCDMP\u001b[0m\u001b[32m)\u001b[0m\u001b[32m. \\n\\nComparing this with the reference, it is clear that the submission has accurately referred to the information provided in the reference. The submission has not directly quoted the reference, but it has paraphrased the information accurately and in detail. \\n\\nTherefore, the submission meets the criterion of referring to a real quote from the text, albeit in a paraphrased manner. \\n\\nY'\u001b[0m,\n",
       "            \u001b[32m'value'\u001b[0m: \u001b[32m'Y'\u001b[0m,\n",
       "            \u001b[32m'score'\u001b[0m: \u001b[1;36m1\u001b[0m\n",
       "        \u001b[1m}\u001b[0m\n",
       "    \u001b[1m}\u001b[0m,\n",
       "    \u001b[1m{\u001b[0m\n",
       "        \u001b[32m'query'\u001b[0m: \u001b[32m'What is pre-diabetes and how does it differ from type 2 diabetes?'\u001b[0m,\n",
       "        \u001b[32m'response'\u001b[0m: \u001b[32m'Pre-diabetes is a condition where blood sugar levels are higher than normal but not high enough to be diagnosed with diabetes. It puts individuals at an increased risk of developing Type 2 diabetes. Making lifestyle changes such as healthy eating can help delay the progression to diabetes or even reverse pre-diabetes. People with pre-diabetes usually do not have symptoms and the only way to diagnose it is through blood tests.  Type 2 diabetes, on the other hand, may not have obvious symptoms or they can be easily missed. If ignored, it can lead to serious complications such as Hyperosmolar Hyperglycaemic Syndrome. Type 2 diabetes typically has a slower onset compared to Type 1 diabetes, which has a fast onset often over a few days. Ignoring symptoms of Type 2 diabetes can lead to serious complications like Hyperosmolar Hyperglycaemic Syndrome.'\u001b[0m,\n",
       "        \u001b[32m'page_content'\u001b[0m: \u001b[32m'What is pre -diabetes? â\\x80¢Pre-diabetes is when your blood sugar levels  arehigher than normal but not high  enough to be diagnosed with diabetes. â\\x80¢Having pre -diabetes puts you at an increased  risk of Type 2 diabetes. â\\x80¢Making lifestyle changes, such as healthy  eating, can delay the progression to diabetes or reverse pre- diabetes. â\\x80¢People with pre -diabetes usually have no  symptoms. The only way to diagnose if you have pre- diabetes is through blood tests. 8'\u001b[0m,\n",
       "        \u001b[32m'coherence'\u001b[0m: \u001b[1m{\u001b[0m\n",
       "            \u001b[32m'reasoning'\u001b[0m: \u001b[32m'The criterion for this assessment is coherence, which includes being well-structured and organized. \\n\\nLooking at the submission, it starts by defining pre-diabetes and then goes on to explain how it differs from Type 2 diabetes. This is a logical and coherent structure. \\n\\nThe submission also provides additional information about the risks associated with both conditions and how they can be diagnosed, which adds to the coherence of the answer. \\n\\nHowever, there is a repetition in the submission where it mentions twice that ignoring symptoms of Type 2 diabetes can lead to serious complications like Hyperosmolar Hyperglycaemic Syndrome. This repetition does not add to the coherence of the answer and could have been avoided. \\n\\nDespite this repetition, the overall structure and organization of the submission is coherent and well-structured. The information flows logically from one point to the next, and the answer is easy to follow. \\n\\nTherefore, the submission meets the criterion of coherence. \\n\\nY'\u001b[0m,\n",
       "            \u001b[32m'value'\u001b[0m: \u001b[32m'Y'\u001b[0m,\n",
       "            \u001b[32m'score'\u001b[0m: \u001b[1;36m1\u001b[0m\n",
       "        \u001b[1m}\u001b[0m,\n",
       "        \u001b[32m'helpfulness'\u001b[0m: \u001b[1m{\u001b[0m\n",
       "            \u001b[32m'reasoning'\u001b[0m: \u001b[32m'The criterion for this task is \"helpfulness\". \\n\\nThe submission provides a clear and concise explanation of what pre-diabetes is and how it differs from type 2 diabetes. It explains that pre-diabetes is a condition where blood sugar levels are higher than normal but not high enough to be diagnosed with diabetes, and that it puts individuals at an increased risk of developing Type 2 diabetes. \\n\\nThe submission also provides helpful advice on how to delay the progression to diabetes or even reverse pre-diabetes through lifestyle changes such as healthy eating. \\n\\nIt further explains that people with pre-diabetes usually do not have symptoms and the only way to diagnose it is through blood tests. \\n\\nThe submission then contrasts this with Type 2 diabetes, explaining that it may not have obvious symptoms or they can be easily missed, and that ignoring these symptoms can lead to serious complications such as Hyperosmolar Hyperglycaemic Syndrome. \\n\\nTherefore, the submission is helpful, insightful, and appropriate, meeting the given criterion.\\n\\nY'\u001b[0m,\n",
       "            \u001b[32m'value'\u001b[0m: \u001b[32m'Y'\u001b[0m,\n",
       "            \u001b[32m'score'\u001b[0m: \u001b[1;36m1\u001b[0m\n",
       "        \u001b[1m}\u001b[0m,\n",
       "        \u001b[32m'correctness'\u001b[0m: \u001b[1m{\u001b[0m\n",
       "            \u001b[32m'reasoning'\u001b[0m: \u001b[32m'The criterion for this task is the correctness of the information provided in the submission. \\n\\nThe submission correctly defines pre-diabetes as a condition where blood sugar levels are higher than normal but not high enough to be diagnosed with diabetes. This matches the reference information.\\n\\nThe submission also correctly states that pre-diabetes puts individuals at an increased risk of developing Type 2 diabetes, which is also stated in the reference.\\n\\nThe submission mentions that lifestyle changes such as healthy eating can help delay the progression to diabetes or even reverse pre-diabetes. This is also mentioned in the reference.\\n\\nThe submission correctly states that people with pre-diabetes usually do not have symptoms and the only way to diagnose it is through blood tests. This is also stated in the reference.\\n\\nThe submission provides additional information about Type 2 diabetes, which is not present in the reference. However, this information does not contradict the reference and is generally accurate.\\n\\nTherefore, the submission meets the criterion of correctness.\\n\\nY'\u001b[0m,\n",
       "            \u001b[32m'value'\u001b[0m: \u001b[32m'Y'\u001b[0m,\n",
       "            \u001b[32m'score'\u001b[0m: \u001b[1;36m1\u001b[0m\n",
       "        \u001b[1m}\u001b[0m,\n",
       "        \u001b[32m'relevance'\u001b[0m: \u001b[1m{\u001b[0m\n",
       "            \u001b[32m'reasoning'\u001b[0m: \u001b[32m'The criterion for this task is to assess whether the submission is referring to a real quote from the text. \\n\\nLooking at the submission, it is clear that the information provided about pre-diabetes and type 2 diabetes is in line with the reference text. The submission accurately describes pre-diabetes as a condition where blood sugar levels are higher than normal but not high enough to be diagnosed with diabetes, which is exactly what the reference text states. \\n\\nThe submission also mentions that having pre-diabetes puts individuals at an increased risk of developing Type 2 diabetes, which is also stated in the reference text. \\n\\nFurthermore, the submission mentions that making lifestyle changes can help delay the progression to diabetes or even reverse pre-diabetes, which is also mentioned in the reference text. \\n\\nFinally, the submission states that people with pre-diabetes usually do not have symptoms and the only way to diagnose it is through blood tests, which is also stated in the reference text. \\n\\nTherefore, the submission is referring to real quotes from the text and meets the criterion. \\n\\nY'\u001b[0m,\n",
       "            \u001b[32m'value'\u001b[0m: \u001b[32m'Y'\u001b[0m,\n",
       "            \u001b[32m'score'\u001b[0m: \u001b[1;36m1\u001b[0m\n",
       "        \u001b[1m}\u001b[0m\n",
       "    \u001b[1m}\u001b[0m,\n",
       "    \u001b[1m{\u001b[0m\n",
       "        \u001b[32m'query'\u001b[0m: \u001b[32m'What are the potential health risks associated with having pre-diabetes?'\u001b[0m,\n",
       "        \u001b[32m'response'\u001b[0m: \u001b[32m'Potential health risks associated with having pre-diabetes include high blood sugar, high blood pressure, and high blood cholesterol which can damage blood vessels. This damage may lead to complications such as nerve damage \u001b[0m\u001b[32m(\u001b[0m\u001b[32mneuropathy\u001b[0m\u001b[32m)\u001b[0m\u001b[32m, stroke, heart disease, circulatory problems, loss of feeling in the feet, increased risk of foot ulcers and infections, eye disease, and reduced kidney function. It is important to monitor and manage pre-diabetes to prevent these complications.'\u001b[0m,\n",
       "        \u001b[32m'page_content'\u001b[0m: \u001b[32m'Risk factors for developing pre-diabetes and Type 2 diabetes Family member\u001b[0m\u001b[32m(\u001b[0m\u001b[32ms\u001b[0m\u001b[32m)\u001b[0m\u001b[32m  known to have diabetesHistory of diabetes  during pregnancy40 years of age and above Body Mass Index \u001b[0m\u001b[32m(\u001b[0m\u001b[32mBMI\u001b[0m\u001b[32m)\u001b[0m\u001b[32m of 23.0 kg/m2 or higherInactive \u001b[0m\u001b[32m(\u001b[0m\u001b[32msedentary\u001b[0m\u001b[32m)\u001b[0m\u001b[32m lifestyle Unhealthy eating habits 10'\u001b[0m,\n",
       "        \u001b[32m'coherence'\u001b[0m: \u001b[1m{\u001b[0m\n",
       "            \u001b[32m'reasoning'\u001b[0m: \u001b[32m'The criterion for this assessment is coherence, which includes being well-structured and organized. \\n\\nLooking at the submission, it starts by listing the immediate health risks associated with pre-diabetes, such as high blood sugar, high blood pressure, and high blood cholesterol. It then explains the potential damage these conditions can cause to blood vessels. \\n\\nThe submission then logically progresses to discuss the complications that can arise from this damage, including nerve damage, stroke, heart disease, and others. \\n\\nFinally, the submission concludes by emphasizing the importance of monitoring and managing pre-diabetes to prevent these complications. \\n\\nOverall, the submission is coherent, well-structured, and organized. It presents the information in a logical and understandable manner, meeting the given criterion.\\n\\nY'\u001b[0m,\n",
       "            \u001b[32m'value'\u001b[0m: \u001b[32m'Y'\u001b[0m,\n",
       "            \u001b[32m'score'\u001b[0m: \u001b[1;36m1\u001b[0m\n",
       "        \u001b[1m}\u001b[0m,\n",
       "        \u001b[32m'helpfulness'\u001b[0m: \u001b[1m{\u001b[0m\n",
       "            \u001b[32m'reasoning'\u001b[0m: \u001b[32m'The criterion for this task is the helpfulness of the submission. \\n\\nThe submission provides a detailed list of potential health risks associated with having pre-diabetes, including high blood sugar, high blood pressure, high blood cholesterol, nerve damage, stroke, heart disease, circulatory problems, loss of feeling in the feet, increased risk of foot ulcers and infections, eye disease, and reduced kidney function. \\n\\nThe submission also emphasizes the importance of monitoring and managing pre-diabetes to prevent these complications, which adds to its helpfulness. \\n\\nTherefore, the submission is helpful, insightful, and appropriate, meeting the given criterion.\\n\\nY'\u001b[0m,\n",
       "            \u001b[32m'value'\u001b[0m: \u001b[32m'Y'\u001b[0m,\n",
       "            \u001b[32m'score'\u001b[0m: \u001b[1;36m1\u001b[0m\n",
       "        \u001b[1m}\u001b[0m,\n",
       "        \u001b[32m'correctness'\u001b[0m: \u001b[1m{\u001b[0m\n",
       "            \u001b[32m'reasoning'\u001b[0m: \u001b[32m'The criterion for this task is the correctness of the submission. The submission should be accurate, factual, and correct. \\n\\nThe input asks for the potential health risks associated with having pre-diabetes. The submission provides a detailed list of potential health risks, including high blood sugar, high blood pressure, high blood cholesterol, nerve damage, stroke, heart disease, circulatory problems, loss of feeling in the feet, increased risk of foot ulcers and infections, eye disease, and reduced kidney function. \\n\\nThe reference provided, however, lists risk factors for developing pre-diabetes and Type 2 diabetes, not the health risks associated with having pre-diabetes. The reference and the submission are addressing different aspects of the topic. \\n\\nThe submission is correct in terms of the information it provides about the potential health risks associated with having pre-diabetes. It does not contradict any known facts and is in line with medical knowledge about the complications of pre-diabetes. \\n\\nHowever, the reference does not provide any information to verify or contradict the submission, as it addresses a different aspect of the topic. \\n\\nBased on the criterion and the information provided, the submission is correct, accurate, and factual. \\n\\nY'\u001b[0m,\n",
       "            \u001b[32m'value'\u001b[0m: \u001b[32m'Y'\u001b[0m,\n",
       "            \u001b[32m'score'\u001b[0m: \u001b[1;36m1\u001b[0m\n",
       "        \u001b[1m}\u001b[0m,\n",
       "        \u001b[32m'relevance'\u001b[0m: \u001b[1m{\u001b[0m\n",
       "            \u001b[32m'reasoning'\u001b[0m: \u001b[32m'The criterion for this task is to assess whether the submission is referring to a real quote from the reference text. \\n\\nLooking at the submission, it provides a detailed explanation of the potential health risks associated with having pre-diabetes. It mentions high blood sugar, high blood pressure, high blood cholesterol, nerve damage, stroke, heart disease, circulatory problems, loss of feeling in the feet, increased risk of foot ulcers and infections, eye disease, and reduced kidney function.\\n\\nHowever, when we compare this to the reference text, we see that the reference text is discussing risk factors for developing pre-diabetes and Type 2 diabetes, not the health risks associated with having pre-diabetes. The reference text mentions family history, history of diabetes during pregnancy, age, Body Mass Index \u001b[0m\u001b[32m(\u001b[0m\u001b[32mBMI\u001b[0m\u001b[32m)\u001b[0m\u001b[32m, inactive lifestyle, and unhealthy eating habits.\\n\\nTherefore, the submission does not refer to a real quote from the reference text. It is discussing a different topic \u001b[0m\u001b[32m(\u001b[0m\u001b[32mhealth risks of pre-diabetes\u001b[0m\u001b[32m)\u001b[0m\u001b[32m than the reference text \u001b[0m\u001b[32m(\u001b[0m\u001b[32mrisk factors for developing pre-diabetes and Type 2 diabetes\u001b[0m\u001b[32m)\u001b[0m\u001b[32m.\\n\\nN'\u001b[0m,\n",
       "            \u001b[32m'value'\u001b[0m: \u001b[32m'N'\u001b[0m,\n",
       "            \u001b[32m'score'\u001b[0m: \u001b[1;36m0\u001b[0m\n",
       "        \u001b[1m}\u001b[0m\n",
       "    \u001b[1m}\u001b[0m,\n",
       "    \u001b[1m{\u001b[0m\n",
       "        \u001b[32m'query'\u001b[0m: \u001b[32m'How can lifestyle changes like diet and exercise help manage pre-diabetes?'\u001b[0m,\n",
       "        \u001b[32m'response'\u001b[0m: \u001b[32m'Lifestyle changes such as a healthy diet and increased physical activity have been shown to reduce the progression from pre-diabetes to Type 2 diabetes by 35% over 10 years. Additionally, exercise is important for general health and well-being, and can still be done if you have diabetes by taking precautions based on your type of diabetes, pre-exercise glucose level, medication and timing, recent food intake, and general health condition.'\u001b[0m,\n",
       "        \u001b[32m'page_content'\u001b[0m: \u001b[32m'. For women with a history  of GDM, lifestyle intervention \u001b[0m\u001b[32m(\u001b[0m\u001b[32mincluding healthy diet  and increased physical activity\u001b[0m\u001b[32m)\u001b[0m\u001b[32m has been shown to  reduce the progression from pre-diabetes to T2DM by  35% over 10 years.23'\u001b[0m,\n",
       "        \u001b[32m'coherence'\u001b[0m: \u001b[1m{\u001b[0m\n",
       "            \u001b[32m'reasoning'\u001b[0m: \u001b[32m'The criterion for this assessment is coherence, which includes being well-structured and organized. \\n\\nLooking at the submission, it starts by addressing the question directly, stating how lifestyle changes can help manage pre-diabetes. It provides a statistic to support this claim, which adds to the coherence of the answer. \\n\\nThe submission then goes on to discuss the importance of exercise for general health and well-being, and how it can be done even if one has diabetes. This is relevant to the question and adds depth to the answer, making it more comprehensive.\\n\\nThe submission is well-structured, with a clear beginning, middle, and end. It is also organized, with each idea flowing logically into the next. \\n\\nTherefore, the submission meets the criterion of coherence. \\nY'\u001b[0m,\n",
       "            \u001b[32m'value'\u001b[0m: \u001b[32m'Y'\u001b[0m,\n",
       "            \u001b[32m'score'\u001b[0m: \u001b[1;36m1\u001b[0m\n",
       "        \u001b[1m}\u001b[0m,\n",
       "        \u001b[32m'helpfulness'\u001b[0m: \u001b[1m{\u001b[0m\n",
       "            \u001b[32m'reasoning'\u001b[0m: \u001b[32m'The criterion for this task is the helpfulness of the submission. \\n\\nThe submission provides a clear and concise answer to the question, explaining how lifestyle changes like diet and exercise can help manage pre-diabetes. It provides a statistic to support its claim, which adds to its helpfulness. \\n\\nThe submission also goes beyond the question to provide additional information about exercising with diabetes, which could be helpful for someone with pre-diabetes who is looking to make lifestyle changes. \\n\\nTherefore, the submission is helpful, insightful, and appropriate, meeting the given criterion. \\n\\nY'\u001b[0m,\n",
       "            \u001b[32m'value'\u001b[0m: \u001b[32m'Y'\u001b[0m,\n",
       "            \u001b[32m'score'\u001b[0m: \u001b[1;36m1\u001b[0m\n",
       "        \u001b[1m}\u001b[0m,\n",
       "        \u001b[32m'correctness'\u001b[0m: \u001b[1m{\u001b[0m\n",
       "            \u001b[32m'reasoning'\u001b[0m: \u001b[32m'The criterion for this task is the correctness of the submission. The submission states that lifestyle changes such as a healthy diet and increased physical activity can reduce the progression from pre-diabetes to Type 2 diabetes by 35% over 10 years. This is in line with the reference provided, which states that for women with a history of GDM, lifestyle intervention has been shown to reduce the progression from pre-diabetes to T2DM by 35% over 10 years. The submission also correctly states that exercise is important for general health and well-being, and can still be done if you have diabetes by taking precautions based on your type of diabetes, pre-exercise glucose level, medication and timing, recent food intake, and general health condition. Therefore, the submission is correct, accurate, and factual.\\n\\nY'\u001b[0m,\n",
       "            \u001b[32m'value'\u001b[0m: \u001b[32m'Y'\u001b[0m,\n",
       "            \u001b[32m'score'\u001b[0m: \u001b[1;36m1\u001b[0m\n",
       "        \u001b[1m}\u001b[0m,\n",
       "        \u001b[32m'relevance'\u001b[0m: \u001b[1m{\u001b[0m\n",
       "            \u001b[32m'reasoning'\u001b[0m: \u001b[32m'The criterion for this task is to assess whether the submission is referring to a real quote from the text. \\n\\nLooking at the submission, it states that \"Lifestyle changes such as a healthy diet and increased physical activity have been shown to reduce the progression from pre-diabetes to Type 2 diabetes by 35% over 10 years.\" \\n\\nComparing this to the reference text, it is clear that the submission is indeed referring to a real quote from the text. The reference text states, \". For women with a history of GDM, lifestyle intervention \u001b[0m\u001b[32m(\u001b[0m\u001b[32mincluding healthy diet and increased physical activity\u001b[0m\u001b[32m)\u001b[0m\u001b[32m has been shown to reduce the progression from pre-diabetes to T2DM by 35% over 10 years.23\"\\n\\nTherefore, the submission meets the criteria.\\n\\nY'\u001b[0m,\n",
       "            \u001b[32m'value'\u001b[0m: \u001b[32m'Y'\u001b[0m,\n",
       "            \u001b[32m'score'\u001b[0m: \u001b[1;36m1\u001b[0m\n",
       "        \u001b[1m}\u001b[0m\n",
       "    \u001b[1m}\u001b[0m,\n",
       "    \u001b[1m{\u001b[0m\n",
       "        \u001b[32m'query'\u001b[0m: \u001b[32m'What specific dietary recommendations are given for someone with pre-diabetes?'\u001b[0m,\n",
       "        \u001b[32m'response'\u001b[0m: \u001b[32m'For someone with pre-diabetes, it is recommended to focus on healthy eating habits. This includes making balanced food choices, managing portion sizes, and incorporating regular physical activity into your routine. It is important to limit the intake of sugar-sweetened beverages and foods, as well as alcohol. Additionally, aiming for at least 150 minutes of moderate-intensity exercise per week, such as brisk walking or leisure cycling, can help reduce the risk of developing type 2 diabetes. For personalized dietary recommendations tailored to your condition and needs, it is advisable to consult with a healthcare professional like a dietitian.'\u001b[0m,\n",
       "        \u001b[32m'page_content'\u001b[0m: \u001b[32m'.g. Fruit juiceSAY NOAvoid sugar-sweetened  beverages & foods Smoking cessationFemale Male1 standard drink = 330 mL of beer = 100 mL of wine = 30 mL of spirits   or hard liquor Limit alcohol intake1 DAY 5Overview of lifestyle intervention in pre-diabetes Role of lifestyle intervention Lifestyle intervention   reduces the risk of   developing T2DM by 31 to  37% over 2 to 6 years Physical activity â\\x89¥â\\x89¥ 150 minutes  per week   of moderateintensity exercise,  such as brisk  walking or  leisure cycling leisure cycling  \u001b[0m\u001b[32m(\u001b[0m\u001b[32m< 16 km/hr\u001b[0m\u001b[32m)\u001b[0m\u001b[32m  No more than two consecutive days without exercisePortion a healthy plate'\u001b[0m,\n",
       "        \u001b[32m'coherence'\u001b[0m: \u001b[1m{\u001b[0m\n",
       "            \u001b[32m'reasoning'\u001b[0m: \u001b[32m'The criterion for this assessment is coherence, which includes the organization and structure of the submission.\\n\\nLooking at the submission, it starts by stating the general recommendation for someone with pre-diabetes, which is to focus on healthy eating habits. This sets the context for the rest of the submission.\\n\\nThe submission then goes into more specific recommendations, such as making balanced food choices, managing portion sizes, and incorporating regular physical activity. These points are all related to the initial statement about focusing on healthy eating habits, which makes the submission coherent.\\n\\nThe submission also mentions the importance of limiting the intake of certain types of food and drink, and the benefits of regular exercise. These points are relevant to the topic and contribute to the overall coherence of the submission.\\n\\nFinally, the submission ends with a recommendation to consult with a healthcare professional for personalized dietary advice. This is a logical conclusion to the submission and ties all the previous points together.\\n\\nTherefore, the submission is coherent, well-structured, and organized.\\n\\nY'\u001b[0m,\n",
       "            \u001b[32m'value'\u001b[0m: \u001b[32m'Y'\u001b[0m,\n",
       "            \u001b[32m'score'\u001b[0m: \u001b[1;36m1\u001b[0m\n",
       "        \u001b[1m}\u001b[0m,\n",
       "        \u001b[32m'helpfulness'\u001b[0m: \u001b[1m{\u001b[0m\n",
       "            \u001b[32m'reasoning'\u001b[0m: \u001b[32m'The criterion for this task is the helpfulness of the submission. \\n\\nThe submission provides a detailed response to the input question, offering specific dietary recommendations for someone with pre-diabetes. It suggests focusing on healthy eating habits, managing portion sizes, and incorporating regular physical activity. It also advises limiting the intake of sugar-sweetened beverages and foods, as well as alcohol. \\n\\nThe submission also recommends at least 150 minutes of moderate-intensity exercise per week, which is a helpful addition to the dietary recommendations. \\n\\nFinally, the submission advises consulting with a healthcare professional for personalized dietary recommendations, which is a responsible and helpful suggestion. \\n\\nTherefore, the submission is helpful, insightful, and appropriate, meeting the given criterion. \\n\\nY'\u001b[0m,\n",
       "            \u001b[32m'value'\u001b[0m: \u001b[32m'Y'\u001b[0m,\n",
       "            \u001b[32m'score'\u001b[0m: \u001b[1;36m1\u001b[0m\n",
       "        \u001b[1m}\u001b[0m,\n",
       "        \u001b[32m'correctness'\u001b[0m: \u001b[1m{\u001b[0m\n",
       "            \u001b[32m'reasoning'\u001b[0m: \u001b[32m'The criterion for this task is the correctness of the information provided in the submission. \\n\\nThe submission states that for someone with pre-diabetes, it is recommended to focus on healthy eating habits, manage portion sizes, limit the intake of sugar-sweetened beverages and foods, limit alcohol, and incorporate regular physical activity into the routine. \\n\\nThe reference material confirms these recommendations. It mentions avoiding sugar-sweetened beverages and foods, limiting alcohol intake, and engaging in physical activity of at least 150 minutes per week. \\n\\nThe submission also adds the recommendation of consulting with a healthcare professional for personalized dietary advice, which is a valid and useful suggestion, even though it is not explicitly mentioned in the reference material.\\n\\nTherefore, the submission is correct, accurate, and factual according to the given criteria.\\n\\nY'\u001b[0m,\n",
       "            \u001b[32m'value'\u001b[0m: \u001b[32m'Y'\u001b[0m,\n",
       "            \u001b[32m'score'\u001b[0m: \u001b[1;36m1\u001b[0m\n",
       "        \u001b[1m}\u001b[0m,\n",
       "        \u001b[32m'relevance'\u001b[0m: \u001b[1m{\u001b[0m\n",
       "            \u001b[32m'reasoning'\u001b[0m: \u001b[32m'The criterion for this task is to assess whether the submission is referring to a real quote from the reference text. \\n\\nLooking at the submission, it talks about healthy eating habits, limiting sugar-sweetened beverages and foods, limiting alcohol, and incorporating regular physical activity. \\n\\nComparing this with the reference text, it mentions avoiding sugar-sweetened beverages and foods, limiting alcohol intake, and doing at least 150 minutes of moderate-intensity exercise per week. \\n\\nThe submission does not directly quote the reference text, but it does refer to the same concepts and recommendations mentioned in the reference. \\n\\nHowever, the criterion specifically asks if the submission is referring to a real quote from the text. Since the submission does not directly quote the reference text, it does not meet the criterion. \\n\\nN'\u001b[0m,\n",
       "            \u001b[32m'value'\u001b[0m: \u001b[32m'N'\u001b[0m,\n",
       "            \u001b[32m'score'\u001b[0m: \u001b[1;36m0\u001b[0m\n",
       "        \u001b[1m}\u001b[0m\n",
       "    \u001b[1m}\u001b[0m,\n",
       "    \u001b[1m{\u001b[0m\n",
       "        \u001b[32m'query'\u001b[0m: \u001b[32m'Under what circumstances might medication be recommended for pre-diabetes and what medication is typically used?'\u001b[0m,\n",
       "        \u001b[32m'response'\u001b[0m: \u001b[32m'Medication for pre-diabetes may be recommended in certain cases where lifestyle changes alone are not sufficient to manage blood sugar levels. Typically, medications such as metformin may be prescribed for individuals with pre-diabetes to help lower their blood sugar levels and reduce the risk of developing Type 2 diabetes. It is important to consult with a healthcare provider to determine the most appropriate treatment plan based on individual health needs.'\u001b[0m,\n",
       "        \u001b[32m'page_content'\u001b[0m: \u001b[32m'Diabetes medications play a key role in managing T2DM for most if not all patients. Importantly, medications  are to be used in conjunction with lifestyle intervention. Patients may require medications soon after diagnosis,  or after a period \u001b[0m\u001b[32m(\u001b[0m\u001b[32me.g., 3 to 6 months\u001b[0m\u001b[32m)\u001b[0m\u001b[32m of lifestyle intervention alone. This ACG focuses on personalising noninsulin T2DM medications, acknowledging that insulin still has an important role in the management of T2DM.  Pharmacological treatment  Lifestyle intervention: a cornerstone of successful T2DM management All international guidelines advocate lifestyle intervention as essential to prevent and manage  T2DM.14-20 A healthy lifestyle can have direct impact on glycaemic control and CVD risk,7,19 with the  latter being a major cause of mortality among patients with T2DM'\u001b[0m,\n",
       "        \u001b[32m'coherence'\u001b[0m: \u001b[1m{\u001b[0m\n",
       "            \u001b[32m'reasoning'\u001b[0m: \u001b[32m'The criterion for this assessment is coherence, which includes being well-structured and organized. \\n\\nLooking at the submission, it begins by addressing the first part of the input question, explaining when medication might be recommended for pre-diabetes. It then moves on to answer the second part of the question, identifying a typical medication used for pre-diabetes. \\n\\nThe submission is well-structured, with a clear progression from one point to the next. It starts with a general statement about when medication might be recommended, then provides a specific example of a medication that might be used, and finally emphasizes the importance of consulting with a healthcare provider. \\n\\nThe submission is also organized, with each part of the answer corresponding to a part of the question. The information is presented in a logical order that makes it easy to follow and understand. \\n\\nTherefore, the submission meets the criterion of being coherent, well-structured, and organized.\\n\\nY'\u001b[0m,\n",
       "            \u001b[32m'value'\u001b[0m: \u001b[32m'Y'\u001b[0m,\n",
       "            \u001b[32m'score'\u001b[0m: \u001b[1;36m1\u001b[0m\n",
       "        \u001b[1m}\u001b[0m,\n",
       "        \u001b[32m'helpfulness'\u001b[0m: \u001b[1m{\u001b[0m\n",
       "            \u001b[32m'reasoning'\u001b[0m: \u001b[32m'The criterion for this task is the helpfulness of the submission. \\n\\nThe submission provides a clear and concise answer to the question asked in the input. It explains when medication might be recommended for pre-diabetes, which is when lifestyle changes alone are not sufficient to manage blood sugar levels. \\n\\nThe submission also provides information on what medication is typically used, mentioning metformin as a common prescription for individuals with pre-diabetes. \\n\\nFurthermore, the submission advises consulting with a healthcare provider to determine the most appropriate treatment plan, which is a helpful and appropriate suggestion. \\n\\nTherefore, the submission meets the criterion of being helpful, insightful, and appropriate.\\n\\nY'\u001b[0m,\n",
       "            \u001b[32m'value'\u001b[0m: \u001b[32m'Y'\u001b[0m,\n",
       "            \u001b[32m'score'\u001b[0m: \u001b[1;36m1\u001b[0m\n",
       "        \u001b[1m}\u001b[0m,\n",
       "        \u001b[32m'correctness'\u001b[0m: \u001b[1m{\u001b[0m\n",
       "            \u001b[32m'reasoning'\u001b[0m: \u001b[32m'The criterion for this task is the correctness of the submission. The submission states that medication for pre-diabetes may be recommended when lifestyle changes are not sufficient to manage blood sugar levels. This aligns with the reference material, which states that medications may be required after a period of lifestyle intervention alone. \\n\\nThe submission also mentions metformin as a typical medication used for pre-diabetes to lower blood sugar levels and reduce the risk of developing Type 2 diabetes. While the reference material does not specifically mention metformin, it is a well-known medication used in the management of Type 2 diabetes, which is the condition that pre-diabetes can progress to if not managed properly.\\n\\nThe submission also emphasizes the importance of consulting with a healthcare provider to determine the most appropriate treatment plan, which is in line with the personalized approach to treatment mentioned in the reference material.\\n\\nTherefore, the submission appears to be correct, accurate, and factual based on the provided reference material.\\n\\nY'\u001b[0m,\n",
       "            \u001b[32m'value'\u001b[0m: \u001b[32m'Y'\u001b[0m,\n",
       "            \u001b[32m'score'\u001b[0m: \u001b[1;36m1\u001b[0m\n",
       "        \u001b[1m}\u001b[0m,\n",
       "        \u001b[32m'relevance'\u001b[0m: \u001b[1m{\u001b[0m\n",
       "            \u001b[32m'reasoning'\u001b[0m: \u001b[32m'The criterion for this task is to assess whether the submission is referring to a real quote from the text. \\n\\nLooking at the submission, it discusses the use of medication for pre-diabetes, specifically mentioning metformin as a common prescription. It also mentions that medication may be recommended when lifestyle changes alone are not sufficient to manage blood sugar levels.\\n\\nComparing this to the reference text, the text discusses the use of medication in managing Type 2 Diabetes Mellitus \u001b[0m\u001b[32m(\u001b[0m\u001b[32mT2DM\u001b[0m\u001b[32m)\u001b[0m\u001b[32m, not pre-diabetes. It mentions that medication is used in conjunction with lifestyle intervention, which is similar to the submission, but it does not specifically mention metformin or pre-diabetes.\\n\\nTherefore, the submission does not refer to a real quote from the text, as it discusses pre-diabetes and metformin, which are not mentioned in the reference text. The submission is related to the topic of the reference text, but it does not directly quote or refer to it.\\n\\nN'\u001b[0m,\n",
       "            \u001b[32m'value'\u001b[0m: \u001b[32m'N'\u001b[0m,\n",
       "            \u001b[32m'score'\u001b[0m: \u001b[1;36m0\u001b[0m\n",
       "        \u001b[1m}\u001b[0m\n",
       "    \u001b[1m}\u001b[0m,\n",
       "    \u001b[1m{\u001b[0m\n",
       "        \u001b[32m'query'\u001b[0m: \u001b[32m'How often should someone with pre-diabetes get follow-up testing or screening done?'\u001b[0m,\n",
       "        \u001b[32m'response'\u001b[0m: \u001b[32m'Someone with pre-diabetes should consider getting follow-up testing or screening done regularly to monitor their condition. It is recommended to have regular check-ups with your healthcare provider to review parameters such as HbA1c, blood pressure, weight, BMI, lipid profile, kidney parameters, smoking, eye and foot assessments. Complication screening should be conducted at least annually. Making these lifestyle changes and monitoring your health can help delay the progression to diabetes or even reverse pre-diabetes.'\u001b[0m,\n",
       "        \u001b[32m'page_content'\u001b[0m: \u001b[32m'. Review parameters and frequency Tailor the frequency of follow-up consultations. For example, review: â\\x80¢ every six months if the patient is doing well and meeting their agreed treatment goals â\\x80¢ every three months if the patient is not doing well or finding it challenging to achieve their treatment goals â\\x80¢ earlier as required, e.g., when starting, adjusting or stopping a medication. Review parameters include HbA 1c, blood pressure, weight, BMI, lipid profile, kidney parameters \u001b[0m\u001b[32m(\u001b[0m\u001b[32msuch as eGFR  and urinary albumin:creatinine ratio\u001b[0m\u001b[32m)\u001b[0m\u001b[32m, smoking, eye and foot assessments. Complication screening should be  conducted at least annually \u001b[0m\u001b[32m(\u001b[0m\u001b[32me.g., kidney, eye and foot assessments\u001b[0m\u001b[32m)\u001b[0m\u001b[32m.  Local programs may provide useful resources and frameworks to facilitate regular reviews for patients with  T2DM, such as the Chronic Disease Management Programme or Healthier SG Care Protocols'\u001b[0m,\n",
       "        \u001b[32m'coherence'\u001b[0m: \u001b[1m{\u001b[0m\n",
       "            \u001b[32m'reasoning'\u001b[0m: \u001b[32m'The criterion for this assessment is coherence, which involves the submission being well-structured, organized, and making sense.\\n\\nLooking at the submission, it starts by addressing the question directly, stating that someone with pre-diabetes should consider getting follow-up testing or screening done regularly. This is a clear and direct response to the input question.\\n\\nThe submission then goes on to provide more detailed information about what this regular testing should involve, including check-ups with a healthcare provider and reviewing various health parameters. This information is relevant to the question and is presented in a logical and organized manner.\\n\\nFinally, the submission concludes by explaining the importance of these regular check-ups, stating that they can help delay the progression to diabetes or even reverse pre-diabetes. This conclusion ties the submission together and reinforces the initial response to the question.\\n\\nOverall, the submission is coherent, well-structured, and organized, meeting the given criterion.\\n\\nY'\u001b[0m,\n",
       "            \u001b[32m'value'\u001b[0m: \u001b[32m'Y'\u001b[0m,\n",
       "            \u001b[32m'score'\u001b[0m: \u001b[1;36m1\u001b[0m\n",
       "        \u001b[1m}\u001b[0m,\n",
       "        \u001b[32m'helpfulness'\u001b[0m: \u001b[1m{\u001b[0m\n",
       "            \u001b[32m'reasoning'\u001b[0m: \u001b[32m'The criterion for this task is the helpfulness of the submission. \\n\\nLooking at the submission, it provides a detailed response to the input question. It not only mentions the frequency of follow-up testing or screening for someone with pre-diabetes, but also lists the parameters that should be reviewed during these check-ups. This information is helpful for someone with pre-diabetes who wants to monitor their condition effectively. \\n\\nThe submission also suggests lifestyle changes and the importance of health monitoring to delay the progression to diabetes or even reverse pre-diabetes. This advice is insightful and appropriate for the context of the question. \\n\\nTherefore, the submission meets the criterion of being helpful, insightful, and appropriate.\\n\\nY'\u001b[0m,\n",
       "            \u001b[32m'value'\u001b[0m: \u001b[32m'Y'\u001b[0m,\n",
       "            \u001b[32m'score'\u001b[0m: \u001b[1;36m1\u001b[0m\n",
       "        \u001b[1m}\u001b[0m,\n",
       "        \u001b[32m'correctness'\u001b[0m: \u001b[1m{\u001b[0m\n",
       "            \u001b[32m'reasoning'\u001b[0m: \u001b[32m'The criterion for this task is the correctness of the information provided in the submission. \\n\\nThe submission states that someone with pre-diabetes should have regular check-ups with their healthcare provider to review parameters such as HbA1c, blood pressure, weight, BMI, lipid profile, kidney parameters, smoking, eye and foot assessments. This aligns with the reference information which also lists these parameters for review.\\n\\nThe submission also mentions that complication screening should be conducted at least annually, which is also stated in the reference.\\n\\nHowever, the submission does not provide specific details on the frequency of follow-up consultations. The reference suggests that the frequency should be tailored, with reviews every six months if the patient is doing well, every three months if the patient is not doing well, and earlier as required. This information is missing from the submission.\\n\\nTherefore, while the submission is mostly correct, it lacks some important details regarding the frequency of follow-up consultations.\\n\\nN'\u001b[0m,\n",
       "            \u001b[32m'value'\u001b[0m: \u001b[32m'N'\u001b[0m,\n",
       "            \u001b[32m'score'\u001b[0m: \u001b[1;36m0\u001b[0m\n",
       "        \u001b[1m}\u001b[0m,\n",
       "        \u001b[32m'relevance'\u001b[0m: \u001b[1m{\u001b[0m\n",
       "            \u001b[32m'reasoning'\u001b[0m: \u001b[32m'The criterion for this task is to assess whether the submission is referring to a real quote from the text. \\n\\nLooking at the submission, it does mention the need for regular check-ups and reviews of parameters such as HbA1c, blood pressure, weight, BMI, lipid profile, kidney parameters, smoking, eye and foot assessments. It also mentions that complication screening should be conducted at least annually. \\n\\nComparing this with the reference text, it is clear that the submission does indeed refer to the information provided in the text. The reference text mentions the need for regular reviews, lists the same parameters to be reviewed, and also states that complication screening should be conducted at least annually. \\n\\nHowever, the submission does not provide a direct quote from the text. It paraphrases and summarizes the information from the text, but does not use the exact wording. \\n\\nTherefore, based on the criterion of whether the submission is referring to a real quote from the text, the submission does not meet the criterion. \\n\\nN'\u001b[0m,\n",
       "            \u001b[32m'value'\u001b[0m: \u001b[32m'N'\u001b[0m,\n",
       "            \u001b[32m'score'\u001b[0m: \u001b[1;36m0\u001b[0m\n",
       "        \u001b[1m}\u001b[0m\n",
       "    \u001b[1m}\u001b[0m,\n",
       "    \u001b[1m{\u001b[0m\n",
       "        \u001b[32m'query'\u001b[0m: \u001b[32m'What tips or strategies are suggested for sustaining healthy lifestyle changes long-term for pre-diabetes?'\u001b[0m,\n",
       "        \u001b[32m'response'\u001b[0m: \u001b[32m'To sustain healthy lifestyle changes long-term for pre-diabetes, it is recommended to tailor the lifestyle intervention to individual needs. This can be done by reinforcing behavioral changes through regular logging of exercise, physical condition, work nature, diet, and weight. Engaging in at least 75 minutes per week of vigorous-intensity exercise, such as jogging or fast-paced cycling, is advised. For those who are overweight or obese, gradually achieving and maintaining a BMI of less than 23 kg/m2 or a 5 to 10% body weight loss is beneficial. Additionally, implementing a diet consisting of 25% lean meat, low-fat dairy or soy products, 25% whole grains like brown rice, and 50% vegetables with a small portion of fruits can help in sustaining healthy lifestyle changes long-term for pre-diabetes.'\u001b[0m,\n",
       "        \u001b[32m'page_content'\u001b[0m: \u001b[32m'Living well with diabetes by  creating your healthy body & self â\\x80¢What you do to take care of yourself and manage diabetes day -today matters and affects how successful the prescribed treatment  would be.â\\x80\\x8b â\\x80¢Making lifestyle changes for diabetes can be as powerful as medications to prevent complications. These include healthy eating, being active, blood sugar monitoring, taking medication, problem solving, reducing risks, coping with stress.â\\x80\\x8b â\\x80¢Starting can feel difficult and overwhelming, but as you learn, build skills and carry these steps out, they will become easier and more effortless.â\\x80\\x8b â\\x80¢Learning self -care and ways to tackle stress and diabetes distress,  and then following through with them, can get you feeling more independent, in -charge and gaining better health.â\\x80\\x8b 93'\u001b[0m,\n",
       "        \u001b[32m'coherence'\u001b[0m: \u001b[1m{\u001b[0m\n",
       "            \u001b[32m'reasoning'\u001b[0m: \u001b[32m'The criterion for this assessment is coherence, which involves the submission being well-structured, organized, and making sense.\\n\\n1. Coherence: The submission is coherent as it provides a clear and logical explanation of the strategies for sustaining healthy lifestyle changes for pre-diabetes. The ideas flow smoothly from one to the next, starting with the general approach of tailoring interventions to individual needs, then moving on to specific strategies such as exercise, weight management, and diet.\\n\\n2. Well-structured: The submission is well-structured. It begins with a general statement about tailoring interventions to individual needs, then provides specific strategies in a logical order: exercise, weight management, and diet. Each strategy is explained in detail, providing a clear structure to the response.\\n\\n3. Organized: The submission is organized. Each strategy is presented in its own section, making it easy for the reader to understand and follow the different strategies suggested. The use of percentages in the diet section also helps to clearly organize the information.\\n\\nBased on this analysis, the submission meets the criterion of coherence.\\n\\nY'\u001b[0m,\n",
       "            \u001b[32m'value'\u001b[0m: \u001b[32m'Y'\u001b[0m,\n",
       "            \u001b[32m'score'\u001b[0m: \u001b[1;36m1\u001b[0m\n",
       "        \u001b[1m}\u001b[0m,\n",
       "        \u001b[32m'helpfulness'\u001b[0m: \u001b[1m{\u001b[0m\n",
       "            \u001b[32m'reasoning'\u001b[0m: \u001b[32m'The criterion for this task is the helpfulness of the submission. \\n\\nThe submission provides a detailed and comprehensive response to the input question. It offers specific strategies for sustaining healthy lifestyle changes for individuals with pre-diabetes, such as regular logging of exercise and diet, engaging in vigorous-intensity exercise, maintaining a healthy BMI or body weight, and implementing a balanced diet. \\n\\nThe advice given is insightful as it not only provides general guidelines but also specific percentages for diet composition. It is also appropriate as it is tailored to the needs of individuals with pre-diabetes, taking into account factors like exercise, diet, and weight. \\n\\nTherefore, the submission meets the criterion of being helpful, insightful, and appropriate. \\n\\nY'\u001b[0m,\n",
       "            \u001b[32m'value'\u001b[0m: \u001b[32m'Y'\u001b[0m,\n",
       "            \u001b[32m'score'\u001b[0m: \u001b[1;36m1\u001b[0m\n",
       "        \u001b[1m}\u001b[0m,\n",
       "        \u001b[32m'correctness'\u001b[0m: \u001b[1m{\u001b[0m\n",
       "            \u001b[32m'reasoning'\u001b[0m: \u001b[32m'The criterion for this task is the correctness of the submission. The submission needs to be accurate, factual, and correct. \\n\\nLooking at the submission, it provides a detailed and comprehensive approach to sustaining healthy lifestyle changes for individuals with pre-diabetes. It suggests tailoring lifestyle interventions to individual needs, regular logging of exercise and diet, engaging in vigorous-intensity exercise, maintaining a healthy BMI or body weight, and implementing a balanced diet. \\n\\nComparing this with the reference, the submission aligns well with the general advice given in the reference. The reference emphasizes the importance of lifestyle changes, healthy eating, being active, and self-care in managing diabetes. The submission provides specific strategies that fall under these broad categories mentioned in the reference. \\n\\nTherefore, the submission is correct, accurate, and factual based on the reference provided. \\n\\nY'\u001b[0m,\n",
       "            \u001b[32m'value'\u001b[0m: \u001b[32m'Y'\u001b[0m,\n",
       "            \u001b[32m'score'\u001b[0m: \u001b[1;36m1\u001b[0m\n",
       "        \u001b[1m}\u001b[0m,\n",
       "        \u001b[32m'relevance'\u001b[0m: \u001b[1m{\u001b[0m\n",
       "            \u001b[32m'reasoning'\u001b[0m: \u001b[32m'The criterion for this task is to assess whether the submission is referring to a real quote from the text. \\n\\nLooking at the reference text, it talks about the importance of self-care, managing diabetes, making lifestyle changes, healthy eating, being active, monitoring blood sugar, taking medication, problem-solving, reducing risks, and coping with stress. \\n\\nComparing this with the submission, the submission does talk about lifestyle changes, healthy eating, and being active which are mentioned in the reference text. However, the submission goes into specific details such as the type of diet, the amount of exercise, and the target BMI which are not mentioned in the reference text. \\n\\nTherefore, the submission is not referring to a real quote from the text as it includes additional information not found in the reference text. \\n\\nN'\u001b[0m,\n",
       "            \u001b[32m'value'\u001b[0m: \u001b[32m'N'\u001b[0m,\n",
       "            \u001b[32m'score'\u001b[0m: \u001b[1;36m0\u001b[0m\n",
       "        \u001b[1m}\u001b[0m\n",
       "    \u001b[1m}\u001b[0m\n",
       "\u001b[1m]\u001b[0m"
      ]
     },
     "execution_count": 5,
     "metadata": {},
     "output_type": "execute_result"
    }
   ],
   "source": [
    "evals_results = catalog.load(\"evaluations_file\")\n",
    "evals_results"
   ]
  },
  {
   "cell_type": "code",
   "execution_count": 6,
   "metadata": {},
   "outputs": [
    {
     "data": {
      "text/html": [
       "<pre style=\"white-space:pre;overflow-x:auto;line-height:normal;font-family:Menlo,'DejaVu Sans Mono',consolas,'Courier New',monospace\"></pre>\n"
      ],
      "text/plain": []
     },
     "metadata": {},
     "output_type": "display_data"
    },
    {
     "data": {
      "text/plain": [
       "\n",
       "\u001b[1m{\u001b[0m\n",
       "    \u001b[32m'query'\u001b[0m: \u001b[32m'What is gestational diabetes and how is it diagnosed?'\u001b[0m,\n",
       "    \u001b[32m'response'\u001b[0m: \u001b[32m'Gestational diabetes \u001b[0m\u001b[32m(\u001b[0m\u001b[32mGDM\u001b[0m\u001b[32m)\u001b[0m\u001b[32m is diabetes that is diagnosed during the second or third trimester of pregnancy. It is often caused by underlying √ü-cell dysfunction or insulin resistance worsened by decreased insulin sensitivity during pregnancy. The prevalence of GDM is higher in Eastern and Southeast Asian countries compared to Western and African countries. In Singapore, GDM occurs in around 1 in 4 to 5 pregnant women. GDM can increase the risk of maternal and neonatal complications such as preeclampsia, macrosomia, and shoulder dystocia.   GDM is diagnosed through glucose testing during pregnancy. If diabetes is first identified during pregnancy, it may represent undiagnosed pre-existing diabetes. It is important for pregnant women to be screened for GDM to ensure proper management and reduce the risk of complications for both the mother and baby.'\u001b[0m,\n",
       "    \u001b[32m'page_content'\u001b[0m: \u001b[32m'.1 2 3 Managing GDM to improve outcomesFirst published: 28 May 2018  Last updated: 22 August 2022 Women with diabetes during pregnancy \u001b[0m\u001b[32m(\u001b[0m\u001b[32mdefined as  glucose levels higher than normal, including  diabetes, GDM, and pre-diabetes\u001b[0m\u001b[32m)\u001b[0m\u001b[32m are at increased risk  of maternal and neonatal complications \u001b[0m\u001b[32m(\u001b[0m\u001b[32msuch as preeclampsia, macrosomia, and shoulder dystocia\u001b[0m\u001b[32m)\u001b[0m\u001b[32m  compared to those without diabetes.1 When diabetes  is first identified during pregnancy, this may  represent undiagnosed pre-existing diabetes. GDM is  diabetes diagnosed in the second or third trimester.  The pathophysiology is often underlying √ü-cell  dysfunction or insulin resistance worsened by  decreased insulin sensitivity during pregnancy.1,2The prevalence of GDM in Eastern and Southeast Asian  countries is approximately 1 in 10, which is higher than  Western and African countries.3 In Singapore, GDM occurs  in around 1 in 4 to 5 pregnant women‚Äîa higher  prevalence than other countries in the Eastern and  Southeast Asian region'\u001b[0m,\n",
       "    \u001b[32m'coherence'\u001b[0m: \u001b[1m{\u001b[0m\n",
       "        \u001b[32m'reasoning'\u001b[0m: \u001b[32m'The criterion for this assessment is coherence, which involves the submission being well-structured, organized, and making sense as a whole. \\n\\nLooking at the submission, it starts by defining what gestational diabetes is, including when it is typically diagnosed and what causes it. This is a logical starting point and provides a clear definition for the reader. \\n\\nThe submission then moves on to discuss the prevalence of gestational diabetes, providing specific data about its occurrence in Singapore. This information is relevant and adds depth to the answer, but it is also well-organized, following logically from the initial definition.\\n\\nNext, the submission discusses the risks associated with gestational diabetes, which is a logical next step after defining the condition and discussing its prevalence. This information is important for understanding why gestational diabetes is a concern.\\n\\nFinally, the submission explains how gestational diabetes is diagnosed, which directly answers the second part of the input question. This is a logical conclusion to the submission, wrapping up the answer in a coherent and organized manner.\\n\\nOverall, the submission is coherent, well-structured, and organized. It follows a logical flow of information, from defining gestational diabetes, to discussing its prevalence and risks, to explaining how it is diagnosed. Each part of the submission is relevant to the input question and contributes to a comprehensive answer.\\n\\nY'\u001b[0m,\n",
       "        \u001b[32m'value'\u001b[0m: \u001b[32m'Y'\u001b[0m,\n",
       "        \u001b[32m'score'\u001b[0m: \u001b[1;36m1\u001b[0m\n",
       "    \u001b[1m}\u001b[0m,\n",
       "    \u001b[32m'helpfulness'\u001b[0m: \u001b[1m{\u001b[0m\n",
       "        \u001b[32m'reasoning'\u001b[0m: \u001b[32m'The criterion for this task is \"helpfulness\". \\n\\nThe submission provides a detailed explanation of what gestational diabetes is, including its causes, prevalence, and potential risks. It also explains how it is diagnosed and the importance of screening during pregnancy. This information is relevant and insightful for someone who wants to understand gestational diabetes. \\n\\nThe submission is also appropriate as it directly answers the question and does not include any offensive or inappropriate content. \\n\\nTherefore, the submission meets the criterion of being helpful, insightful, and appropriate. \\n\\nY'\u001b[0m,\n",
       "        \u001b[32m'value'\u001b[0m: \u001b[32m'Y'\u001b[0m,\n",
       "        \u001b[32m'score'\u001b[0m: \u001b[1;36m1\u001b[0m\n",
       "    \u001b[1m}\u001b[0m,\n",
       "    \u001b[32m'correctness'\u001b[0m: \u001b[1m{\u001b[0m\n",
       "        \u001b[32m'reasoning'\u001b[0m: \u001b[32m'The criterion for this task is the correctness of the submission. The submission should be accurate, factual, and correct. \\n\\n1. The submission correctly identifies gestational diabetes \u001b[0m\u001b[32m(\u001b[0m\u001b[32mGDM\u001b[0m\u001b[32m)\u001b[0m\u001b[32m as a type of diabetes that is diagnosed during the second or third trimester of pregnancy. This matches the reference material.\\n\\n2. The submission accurately describes the pathophysiology of GDM, stating that it is often caused by underlying √ü-cell dysfunction or insulin resistance worsened by decreased insulin sensitivity during pregnancy. This is also in line with the reference material.\\n\\n3. The submission correctly states that the prevalence of GDM is higher in Eastern and Southeast Asian countries compared to Western and African countries. This is supported by the reference material.\\n\\n4. The submission correctly states that GDM can increase the risk of maternal and neonatal complications such as preeclampsia, macrosomia, and shoulder dystocia. This is also supported by the reference material.\\n\\n5. The submission correctly states that GDM is diagnosed through glucose testing during pregnancy. This is a common method of diagnosing GDM.\\n\\n6. The submission correctly states that if diabetes is first identified during pregnancy, it may represent undiagnosed pre-existing diabetes. This is also supported by the reference material.\\n\\nBased on the above points, the submission appears to be correct, accurate, and factual. It aligns well with the reference material and provides a comprehensive answer to the input question.\\n\\nY'\u001b[0m,\n",
       "        \u001b[32m'value'\u001b[0m: \u001b[32m'Y'\u001b[0m,\n",
       "        \u001b[32m'score'\u001b[0m: \u001b[1;36m1\u001b[0m\n",
       "    \u001b[1m}\u001b[0m,\n",
       "    \u001b[32m'relevance'\u001b[0m: \u001b[1m{\u001b[0m\n",
       "        \u001b[32m'reasoning'\u001b[0m: \u001b[32m'The criterion for this task is to assess whether the submission is referring to a real quote from the text. \\n\\nLooking at the submission, it discusses gestational diabetes \u001b[0m\u001b[32m(\u001b[0m\u001b[32mGDM\u001b[0m\u001b[32m)\u001b[0m\u001b[32m, its causes, prevalence, risks, and diagnosis. It specifically mentions that GDM is diagnosed during the second or third trimester of pregnancy, often caused by underlying √ü-cell dysfunction or insulin resistance worsened by decreased insulin sensitivity during pregnancy. It also mentions the prevalence of GDM in Eastern and Southeast Asian countries and Singapore, and the risks associated with GDM such as preeclampsia, macrosomia, and shoulder dystocia. \\n\\nComparing this with the reference text, it is clear that the submission is referring to the same topics. The reference text also discusses GDM, its causes, prevalence, risks, and diagnosis. It specifically mentions that GDM is diagnosed in the second or third trimester, often caused by underlying √ü-cell dysfunction or insulin resistance worsened by decreased insulin sensitivity during pregnancy. It also mentions the prevalence of GDM in Eastern and Southeast Asian countries and Singapore, and the risks associated with GDM such as preeclampsia, macrosomia, and shoulder dystocia. \\n\\nTherefore, the submission is referring to a real quote from the text and meets the criterion.\\n\\nY'\u001b[0m,\n",
       "        \u001b[32m'value'\u001b[0m: \u001b[32m'Y'\u001b[0m,\n",
       "        \u001b[32m'score'\u001b[0m: \u001b[1;36m1\u001b[0m\n",
       "    \u001b[1m}\u001b[0m\n",
       "\u001b[1m}\u001b[0m"
      ]
     },
     "execution_count": 6,
     "metadata": {},
     "output_type": "execute_result"
    }
   ],
   "source": [
    "evals_results[0]"
   ]
  },
  {
   "cell_type": "code",
   "execution_count": 7,
   "metadata": {},
   "outputs": [],
   "source": [
    "eval_df = pd.DataFrame(columns=[\"queries\", \"responses\", \"page_contents\", *criterion, *labelled_criterion])\n",
    "\n",
    "for i, eval in enumerate(evals_results):\n",
    "    eval_df.at[i, \"queries\"] = eval[\"query\"]\n",
    "    eval_df.at[i, \"responses\"] = eval[\"response\"]\n",
    "    eval_df.at[i, \"page_contents\"] = eval[\"page_content\"]\n",
    "    \n",
    "    for criteria in criterion:\n",
    "        eval_df.at[i, criteria] = eval[criteria][\"score\"]\n",
    "        \n",
    "    for labelled_criteria in labelled_criterion:\n",
    "        eval_df.at[i, labelled_criteria] = eval[labelled_criteria][\"score\"]\n",
    "        \n",
    "\n",
    "eval_df[[*criterion, *labelled_criterion]] = eval_df[[*criterion, *labelled_criterion]].astype(int)"
   ]
  },
  {
   "cell_type": "code",
   "execution_count": 8,
   "metadata": {},
   "outputs": [
    {
     "data": {
      "text/html": [
       "<pre style=\"white-space:pre;overflow-x:auto;line-height:normal;font-family:Menlo,'DejaVu Sans Mono',consolas,'Courier New',monospace\"></pre>\n"
      ],
      "text/plain": []
     },
     "metadata": {},
     "output_type": "display_data"
    },
    {
     "data": {
      "text/html": [
       "<div>\n",
       "<style scoped>\n",
       "    .dataframe tbody tr th:only-of-type {\n",
       "        vertical-align: middle;\n",
       "    }\n",
       "\n",
       "    .dataframe tbody tr th {\n",
       "        vertical-align: top;\n",
       "    }\n",
       "\n",
       "    .dataframe thead th {\n",
       "        text-align: right;\n",
       "    }\n",
       "</style>\n",
       "<table border=\"1\" class=\"dataframe\">\n",
       "  <thead>\n",
       "    <tr style=\"text-align: right;\">\n",
       "      <th></th>\n",
       "      <th>queries</th>\n",
       "      <th>responses</th>\n",
       "      <th>page_contents</th>\n",
       "      <th>coherence</th>\n",
       "      <th>helpfulness</th>\n",
       "      <th>correctness</th>\n",
       "      <th>relevance</th>\n",
       "    </tr>\n",
       "  </thead>\n",
       "  <tbody>\n",
       "    <tr>\n",
       "      <th>0</th>\n",
       "      <td>What is gestational diabetes and how is it dia...</td>\n",
       "      <td>Gestational diabetes (GDM) is diabetes that is...</td>\n",
       "      <td>.1 2 3 Managing GDM to improve outcomesFirst p...</td>\n",
       "      <td>1</td>\n",
       "      <td>1</td>\n",
       "      <td>1</td>\n",
       "      <td>1</td>\n",
       "    </tr>\n",
       "    <tr>\n",
       "      <th>1</th>\n",
       "      <td>What are some healthy eating tips for people w...</td>\n",
       "      <td>Some healthy eating tips for people with diabe...</td>\n",
       "      <td>Healthy Eating When You Have Diabetes Diet is ...</td>\n",
       "      <td>1</td>\n",
       "      <td>1</td>\n",
       "      <td>1</td>\n",
       "      <td>0</td>\n",
       "    </tr>\n",
       "    <tr>\n",
       "      <th>2</th>\n",
       "      <td>How can my outpatient bill for diabetes be cov...</td>\n",
       "      <td>You can offset your outpatient bill for diabet...</td>\n",
       "      <td>How your outpatient bill may be covered Offset...</td>\n",
       "      <td>1</td>\n",
       "      <td>1</td>\n",
       "      <td>1</td>\n",
       "      <td>1</td>\n",
       "    </tr>\n",
       "    <tr>\n",
       "      <th>3</th>\n",
       "      <td>What is pre-diabetes and how does it differ fr...</td>\n",
       "      <td>Pre-diabetes is a condition where blood sugar ...</td>\n",
       "      <td>What is pre -diabetes? â¢Pre-diabetes is when...</td>\n",
       "      <td>1</td>\n",
       "      <td>1</td>\n",
       "      <td>1</td>\n",
       "      <td>1</td>\n",
       "    </tr>\n",
       "    <tr>\n",
       "      <th>4</th>\n",
       "      <td>What are the potential health risks associated...</td>\n",
       "      <td>Potential health risks associated with having ...</td>\n",
       "      <td>Risk factors for developing pre-diabetes and T...</td>\n",
       "      <td>1</td>\n",
       "      <td>1</td>\n",
       "      <td>1</td>\n",
       "      <td>0</td>\n",
       "    </tr>\n",
       "    <tr>\n",
       "      <th>5</th>\n",
       "      <td>How can lifestyle changes like diet and exerci...</td>\n",
       "      <td>Lifestyle changes such as a healthy diet and i...</td>\n",
       "      <td>. For women with a history  of GDM, lifestyle ...</td>\n",
       "      <td>1</td>\n",
       "      <td>1</td>\n",
       "      <td>1</td>\n",
       "      <td>1</td>\n",
       "    </tr>\n",
       "    <tr>\n",
       "      <th>6</th>\n",
       "      <td>What specific dietary recommendations are give...</td>\n",
       "      <td>For someone with pre-diabetes, it is recommend...</td>\n",
       "      <td>.g. Fruit juiceSAY NOAvoid sugar-sweetened  be...</td>\n",
       "      <td>1</td>\n",
       "      <td>1</td>\n",
       "      <td>1</td>\n",
       "      <td>0</td>\n",
       "    </tr>\n",
       "    <tr>\n",
       "      <th>7</th>\n",
       "      <td>Under what circumstances might medication be r...</td>\n",
       "      <td>Medication for pre-diabetes may be recommended...</td>\n",
       "      <td>Diabetes medications play a key role in managi...</td>\n",
       "      <td>1</td>\n",
       "      <td>1</td>\n",
       "      <td>1</td>\n",
       "      <td>0</td>\n",
       "    </tr>\n",
       "    <tr>\n",
       "      <th>8</th>\n",
       "      <td>How often should someone with pre-diabetes get...</td>\n",
       "      <td>Someone with pre-diabetes should consider gett...</td>\n",
       "      <td>. Review parameters and frequency Tailor the f...</td>\n",
       "      <td>1</td>\n",
       "      <td>1</td>\n",
       "      <td>0</td>\n",
       "      <td>0</td>\n",
       "    </tr>\n",
       "    <tr>\n",
       "      <th>9</th>\n",
       "      <td>What tips or strategies are suggested for sust...</td>\n",
       "      <td>To sustain healthy lifestyle changes long-term...</td>\n",
       "      <td>Living well with diabetes by  creating your he...</td>\n",
       "      <td>1</td>\n",
       "      <td>1</td>\n",
       "      <td>1</td>\n",
       "      <td>0</td>\n",
       "    </tr>\n",
       "  </tbody>\n",
       "</table>\n",
       "</div>"
      ],
      "text/plain": [
       "\n",
       "                                             queries  \\\n",
       "\u001b[1;36m0\u001b[0m  What is gestational diabetes and how is it dia\u001b[33m...\u001b[0m   \n",
       "\u001b[1;36m1\u001b[0m  What are some healthy eating tips for people w\u001b[33m...\u001b[0m   \n",
       "\u001b[1;36m2\u001b[0m  How can my outpatient bill for diabetes be cov\u001b[33m...\u001b[0m   \n",
       "\u001b[1;36m3\u001b[0m  What is pre-diabetes and how does it differ fr\u001b[33m...\u001b[0m   \n",
       "\u001b[1;36m4\u001b[0m  What are the potential health risks associated\u001b[33m...\u001b[0m   \n",
       "\u001b[1;36m5\u001b[0m  How can lifestyle changes like diet and exerci\u001b[33m...\u001b[0m   \n",
       "\u001b[1;36m6\u001b[0m  What specific dietary recommendations are give\u001b[33m...\u001b[0m   \n",
       "\u001b[1;36m7\u001b[0m  Under what circumstances might medication be r\u001b[33m...\u001b[0m   \n",
       "\u001b[1;36m8\u001b[0m  How often should someone with pre-diabetes get\u001b[33m...\u001b[0m   \n",
       "\u001b[1;36m9\u001b[0m  What tips or strategies are suggested for sust\u001b[33m...\u001b[0m   \n",
       "\n",
       "                                           responses  \\\n",
       "\u001b[1;36m0\u001b[0m  Gestational diabetes \u001b[1m(\u001b[0mGDM\u001b[1m)\u001b[0m is diabetes that is\u001b[33m...\u001b[0m   \n",
       "\u001b[1;36m1\u001b[0m  Some healthy eating tips for people with diabe\u001b[33m...\u001b[0m   \n",
       "\u001b[1;36m2\u001b[0m  You can offset your outpatient bill for diabet\u001b[33m...\u001b[0m   \n",
       "\u001b[1;36m3\u001b[0m  Pre-diabetes is a condition where blood sugar \u001b[33m...\u001b[0m   \n",
       "\u001b[1;36m4\u001b[0m  Potential health risks associated with having \u001b[33m...\u001b[0m   \n",
       "\u001b[1;36m5\u001b[0m  Lifestyle changes such as a healthy diet and i\u001b[33m...\u001b[0m   \n",
       "\u001b[1;36m6\u001b[0m  For someone with pre-diabetes, it is recommend\u001b[33m...\u001b[0m   \n",
       "\u001b[1;36m7\u001b[0m  Medication for pre-diabetes may be recommended\u001b[33m...\u001b[0m   \n",
       "\u001b[1;36m8\u001b[0m  Someone with pre-diabetes should consider gett\u001b[33m...\u001b[0m   \n",
       "\u001b[1;36m9\u001b[0m  To sustain healthy lifestyle changes long-term\u001b[33m...\u001b[0m   \n",
       "\n",
       "                                       page_contents  coherence  helpfulness  \\\n",
       "\u001b[1;36m0\u001b[0m  .\u001b[1;36m1\u001b[0m \u001b[1;36m2\u001b[0m \u001b[1;36m3\u001b[0m Managing GDM to improve outcomesFirst p\u001b[33m...\u001b[0m          \u001b[1;36m1\u001b[0m            \u001b[1;36m1\u001b[0m   \n",
       "\u001b[1;36m1\u001b[0m  Healthy Eating When You Have Diabetes Diet is \u001b[33m...\u001b[0m          \u001b[1;36m1\u001b[0m            \u001b[1;36m1\u001b[0m   \n",
       "\u001b[1;36m2\u001b[0m  How your outpatient bill may be covered Offset\u001b[33m...\u001b[0m          \u001b[1;36m1\u001b[0m            \u001b[1;36m1\u001b[0m   \n",
       "\u001b[1;36m3\u001b[0m  What is pre -diabetes? â¢Pre-diabetes is when\u001b[33m...\u001b[0m          \u001b[1;36m1\u001b[0m            \u001b[1;36m1\u001b[0m   \n",
       "\u001b[1;36m4\u001b[0m  Risk factors for developing pre-diabetes and T\u001b[33m...\u001b[0m          \u001b[1;36m1\u001b[0m            \u001b[1;36m1\u001b[0m   \n",
       "\u001b[1;36m5\u001b[0m  . For women with a history  of GDM, lifestyle \u001b[33m...\u001b[0m          \u001b[1;36m1\u001b[0m            \u001b[1;36m1\u001b[0m   \n",
       "\u001b[1;36m6\u001b[0m  .g. Fruit juiceSAY NOAvoid sugar-sweetened  be\u001b[33m...\u001b[0m          \u001b[1;36m1\u001b[0m            \u001b[1;36m1\u001b[0m   \n",
       "\u001b[1;36m7\u001b[0m  Diabetes medications play a key role in managi\u001b[33m...\u001b[0m          \u001b[1;36m1\u001b[0m            \u001b[1;36m1\u001b[0m   \n",
       "\u001b[1;36m8\u001b[0m  . Review parameters and frequency Tailor the f\u001b[33m...\u001b[0m          \u001b[1;36m1\u001b[0m            \u001b[1;36m1\u001b[0m   \n",
       "\u001b[1;36m9\u001b[0m  Living well with diabetes by  creating your he\u001b[33m...\u001b[0m          \u001b[1;36m1\u001b[0m            \u001b[1;36m1\u001b[0m   \n",
       "\n",
       "   correctness  relevance  \n",
       "\u001b[1;36m0\u001b[0m            \u001b[1;36m1\u001b[0m          \u001b[1;36m1\u001b[0m  \n",
       "\u001b[1;36m1\u001b[0m            \u001b[1;36m1\u001b[0m          \u001b[1;36m0\u001b[0m  \n",
       "\u001b[1;36m2\u001b[0m            \u001b[1;36m1\u001b[0m          \u001b[1;36m1\u001b[0m  \n",
       "\u001b[1;36m3\u001b[0m            \u001b[1;36m1\u001b[0m          \u001b[1;36m1\u001b[0m  \n",
       "\u001b[1;36m4\u001b[0m            \u001b[1;36m1\u001b[0m          \u001b[1;36m0\u001b[0m  \n",
       "\u001b[1;36m5\u001b[0m            \u001b[1;36m1\u001b[0m          \u001b[1;36m1\u001b[0m  \n",
       "\u001b[1;36m6\u001b[0m            \u001b[1;36m1\u001b[0m          \u001b[1;36m0\u001b[0m  \n",
       "\u001b[1;36m7\u001b[0m            \u001b[1;36m1\u001b[0m          \u001b[1;36m0\u001b[0m  \n",
       "\u001b[1;36m8\u001b[0m            \u001b[1;36m0\u001b[0m          \u001b[1;36m0\u001b[0m  \n",
       "\u001b[1;36m9\u001b[0m            \u001b[1;36m1\u001b[0m          \u001b[1;36m0\u001b[0m  "
      ]
     },
     "execution_count": 8,
     "metadata": {},
     "output_type": "execute_result"
    }
   ],
   "source": [
    "eval_df"
   ]
  },
  {
   "cell_type": "code",
   "execution_count": 9,
   "metadata": {},
   "outputs": [
    {
     "data": {
      "text/html": [
       "<pre style=\"white-space:pre;overflow-x:auto;line-height:normal;font-family:Menlo,'DejaVu Sans Mono',consolas,'Courier New',monospace\"></pre>\n"
      ],
      "text/plain": []
     },
     "metadata": {},
     "output_type": "display_data"
    },
    {
     "data": {
      "text/html": [
       "<div>\n",
       "<style scoped>\n",
       "    .dataframe tbody tr th:only-of-type {\n",
       "        vertical-align: middle;\n",
       "    }\n",
       "\n",
       "    .dataframe tbody tr th {\n",
       "        vertical-align: top;\n",
       "    }\n",
       "\n",
       "    .dataframe thead th {\n",
       "        text-align: right;\n",
       "    }\n",
       "</style>\n",
       "<table border=\"1\" class=\"dataframe\">\n",
       "  <thead>\n",
       "    <tr style=\"text-align: right;\">\n",
       "      <th></th>\n",
       "      <th>count</th>\n",
       "      <th>mean</th>\n",
       "      <th>std</th>\n",
       "      <th>min</th>\n",
       "      <th>25%</th>\n",
       "      <th>50%</th>\n",
       "      <th>75%</th>\n",
       "      <th>max</th>\n",
       "    </tr>\n",
       "  </thead>\n",
       "  <tbody>\n",
       "    <tr>\n",
       "      <th>coherence</th>\n",
       "      <td>10.0</td>\n",
       "      <td>1.0</td>\n",
       "      <td>0.000000</td>\n",
       "      <td>1.0</td>\n",
       "      <td>1.0</td>\n",
       "      <td>1.0</td>\n",
       "      <td>1.0</td>\n",
       "      <td>1.0</td>\n",
       "    </tr>\n",
       "    <tr>\n",
       "      <th>helpfulness</th>\n",
       "      <td>10.0</td>\n",
       "      <td>1.0</td>\n",
       "      <td>0.000000</td>\n",
       "      <td>1.0</td>\n",
       "      <td>1.0</td>\n",
       "      <td>1.0</td>\n",
       "      <td>1.0</td>\n",
       "      <td>1.0</td>\n",
       "    </tr>\n",
       "    <tr>\n",
       "      <th>correctness</th>\n",
       "      <td>10.0</td>\n",
       "      <td>0.9</td>\n",
       "      <td>0.316228</td>\n",
       "      <td>0.0</td>\n",
       "      <td>1.0</td>\n",
       "      <td>1.0</td>\n",
       "      <td>1.0</td>\n",
       "      <td>1.0</td>\n",
       "    </tr>\n",
       "    <tr>\n",
       "      <th>relevance</th>\n",
       "      <td>10.0</td>\n",
       "      <td>0.4</td>\n",
       "      <td>0.516398</td>\n",
       "      <td>0.0</td>\n",
       "      <td>0.0</td>\n",
       "      <td>0.0</td>\n",
       "      <td>1.0</td>\n",
       "      <td>1.0</td>\n",
       "    </tr>\n",
       "  </tbody>\n",
       "</table>\n",
       "</div>"
      ],
      "text/plain": [
       "\n",
       "             count  mean       std  min  \u001b[1;36m25\u001b[0m%  \u001b[1;36m50\u001b[0m%  \u001b[1;36m75\u001b[0m%  max\n",
       "coherence     \u001b[1;36m10.0\u001b[0m   \u001b[1;36m1.0\u001b[0m  \u001b[1;36m0.000000\u001b[0m  \u001b[1;36m1.0\u001b[0m  \u001b[1;36m1.0\u001b[0m  \u001b[1;36m1.0\u001b[0m  \u001b[1;36m1.0\u001b[0m  \u001b[1;36m1.0\u001b[0m\n",
       "helpfulness   \u001b[1;36m10.0\u001b[0m   \u001b[1;36m1.0\u001b[0m  \u001b[1;36m0.000000\u001b[0m  \u001b[1;36m1.0\u001b[0m  \u001b[1;36m1.0\u001b[0m  \u001b[1;36m1.0\u001b[0m  \u001b[1;36m1.0\u001b[0m  \u001b[1;36m1.0\u001b[0m\n",
       "correctness   \u001b[1;36m10.0\u001b[0m   \u001b[1;36m0.9\u001b[0m  \u001b[1;36m0.316228\u001b[0m  \u001b[1;36m0.0\u001b[0m  \u001b[1;36m1.0\u001b[0m  \u001b[1;36m1.0\u001b[0m  \u001b[1;36m1.0\u001b[0m  \u001b[1;36m1.0\u001b[0m\n",
       "relevance     \u001b[1;36m10.0\u001b[0m   \u001b[1;36m0.4\u001b[0m  \u001b[1;36m0.516398\u001b[0m  \u001b[1;36m0.0\u001b[0m  \u001b[1;36m0.0\u001b[0m  \u001b[1;36m0.0\u001b[0m  \u001b[1;36m1.0\u001b[0m  \u001b[1;36m1.0\u001b[0m"
      ]
     },
     "execution_count": 9,
     "metadata": {},
     "output_type": "execute_result"
    }
   ],
   "source": [
    "meta_df = eval_df[[*criterion, *labelled_criterion]].describe().T\n",
    "meta_df"
   ]
  },
  {
   "cell_type": "code",
   "execution_count": 10,
   "metadata": {},
   "outputs": [
    {
     "data": {
      "text/html": [
       "<pre style=\"white-space:pre;overflow-x:auto;line-height:normal;font-family:Menlo,'DejaVu Sans Mono',consolas,'Courier New',monospace\"></pre>\n"
      ],
      "text/plain": []
     },
     "metadata": {},
     "output_type": "display_data"
    },
    {
     "data": {
      "image/png": "[encoded data removed]",
      "text/plain": [
       "\u001b[1m<\u001b[0m\u001b[1;95mFigure\u001b[0m\u001b[39m size 120\u001b[0m\u001b[1;36m0x600\u001b[0m\u001b[39m with \u001b[0m\u001b[1;36m1\u001b[0m\u001b[39m Axes\u001b[0m\u001b[1m>\u001b[0m"
      ]
     },
     "metadata": {},
     "output_type": "display_data"
    }
   ],
   "source": [
    "plt.figure(figsize=(12, 6))\n",
    "plt.barh(meta_df.index[::-1], meta_df[\"mean\"][::-1])\n",
    "plt.xlabel(\"Mean Scores\")\n",
    "plt.ylabel(\"Criteria\")\n",
    "plt.title(\"Mean Scores of Evaluation Criteria over All Responses\")\n",
    "plt.show()"
   ]
  },
  {
   "cell_type": "code",
   "execution_count": null,
   "metadata": {},
   "outputs": [],
   "source": []
  }
 ],
 "metadata": {
  "kernelspec": {
   "display_name": "genai",
   "language": "python",
   "name": "python3"
  },
  "language_info": {
   "codemirror_mode": {
    "name": "ipython",
    "version": 3
   },
   "file_extension": ".py",
   "mimetype": "text/x-python",
   "name": "python",
   "nbconvert_exporter": "python",
   "pygments_lexer": "ipython3",
   "version": "3.10.14"
  }
 },
 "nbformat": 4,
 "nbformat_minor": 2
}
